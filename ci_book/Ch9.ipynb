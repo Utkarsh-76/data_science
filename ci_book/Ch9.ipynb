{
 "cells": [
  {
   "cell_type": "code",
   "execution_count": 3,
   "metadata": {
    "collapsed": false
   },
   "outputs": [],
   "source": [
    "class matchrow:\n",
    "    def __init__(self,row,allnum=False):\n",
    "        if allnum:\n",
    "            self.data=[float(row[i]) for i in range(len(row)-1)]\n",
    "        else:\n",
    "            self.data=row[0:len(row)-1]\n",
    "        self.match=int(row[len(row)-1])\n",
    "\n",
    "def loadmatch(f,allnum=False):\n",
    "    rows=[]\n",
    "    for line in file(f):\n",
    "        rows.append(matchrow(line.split(','),allnum))\n",
    "    return rows"
   ]
  },
  {
   "cell_type": "code",
   "execution_count": 6,
   "metadata": {
    "collapsed": false
   },
   "outputs": [],
   "source": [
    "agesonly=loadmatch('resources/agesonly.csv',allnum=True)\n",
    "matchmaker=loadmatch('resources/matchmaker.csv')"
   ]
  },
  {
   "cell_type": "code",
   "execution_count": 14,
   "metadata": {
    "collapsed": false
   },
   "outputs": [
    {
     "data": {
      "text/plain": [
       "1"
      ]
     },
     "execution_count": 14,
     "metadata": {},
     "output_type": "execute_result"
    }
   ],
   "source": [
    "agesonly[1].match"
   ]
  },
  {
   "cell_type": "code",
   "execution_count": 16,
   "metadata": {
    "collapsed": true
   },
   "outputs": [],
   "source": [
    "import matplotlib.pyplot as plt"
   ]
  },
  {
   "cell_type": "code",
   "execution_count": 36,
   "metadata": {
    "collapsed": true
   },
   "outputs": [],
   "source": [
    "def plotagematches(rows):\n",
    "    xdm,ydm=[r.data[0] for r in rows if r.match==1],[r.data[1] for r in rows if r.match==1]\n",
    "    xdn,ydn=[r.data[0] for r in rows if r.match==0],[r.data[1] for r in rows if r.match==0]\n",
    "    plt.plot(xdm,ydm,'go')\n",
    "    plt.plot(xdn,ydn,'r^')\n",
    "    plt.show( )"
   ]
  },
  {
   "cell_type": "code",
   "execution_count": 38,
   "metadata": {
    "collapsed": false
   },
   "outputs": [],
   "source": [
    "plotagematches(agesonly)"
   ]
  },
  {
   "cell_type": "code",
   "execution_count": 40,
   "metadata": {
    "collapsed": true
   },
   "outputs": [],
   "source": [
    "def lineartrain(rows):\n",
    "    averages={}\n",
    "    counts={}\n",
    "    \n",
    "    for row in rows:\n",
    "        # Get the class of this point\n",
    "        cl=row.match\n",
    "\n",
    "        averages.setdefault(cl,[0.0]*(len(row.data)))\n",
    "        counts.setdefault(cl,0)\n",
    "\n",
    "        # Add this point to the averages\n",
    "        for i in range(len(row.data)):\n",
    "            averages[cl][i]+=float(row.data[i])\n",
    "\n",
    "        # Keep track of how many points in each class\n",
    "        counts[cl]+=1\n",
    "    \n",
    "    # Divide sums by counts to get the averages\n",
    "    for cl,avg in averages.items( ):\n",
    "        for i in range(len(avg)):\n",
    "            avg[i]/=counts[cl]\n",
    "    \n",
    "    return averages"
   ]
  },
  {
   "cell_type": "code",
   "execution_count": 41,
   "metadata": {
    "collapsed": true
   },
   "outputs": [],
   "source": [
    "avgs=lineartrain(agesonly)"
   ]
  },
  {
   "cell_type": "code",
   "execution_count": 42,
   "metadata": {
    "collapsed": true
   },
   "outputs": [],
   "source": [
    "def dotproduct(v1,v2):\n",
    "    return sum([v1[i]*v2[i] for i in range(len(v1))])"
   ]
  },
  {
   "cell_type": "code",
   "execution_count": 43,
   "metadata": {
    "collapsed": true
   },
   "outputs": [],
   "source": [
    "def dpclassify(point,avgs):\n",
    "    b=(dotproduct(avgs[1],avgs[1])-dotproduct(avgs[0],avgs[0]))/2\n",
    "    y=dotproduct(point,avgs[0])-dotproduct(point,avgs[1])+b\n",
    "    if y>0: return 0\n",
    "    else: return 1"
   ]
  },
  {
   "cell_type": "code",
   "execution_count": 44,
   "metadata": {
    "collapsed": true
   },
   "outputs": [],
   "source": [
    "def yesno(v):\n",
    "    if v=='yes': return 1\n",
    "    elif v=='no': return -1\n",
    "    else: return 0"
   ]
  },
  {
   "cell_type": "code",
   "execution_count": 45,
   "metadata": {
    "collapsed": true
   },
   "outputs": [],
   "source": [
    "def matchcount(interest1,interest2):\n",
    "    l1=interest1.split(':')\n",
    "    l2=interest2.split(':')\n",
    "    x=0\n",
    "    for v in l1:\n",
    "        if v in l2: x+=1\n",
    "    return x"
   ]
  },
  {
   "cell_type": "code",
   "execution_count": 46,
   "metadata": {
    "collapsed": true
   },
   "outputs": [],
   "source": [
    "def milesdistance(a1,a2):\n",
    "    return 0"
   ]
  },
  {
   "cell_type": "code",
   "execution_count": 47,
   "metadata": {
    "collapsed": true
   },
   "outputs": [],
   "source": [
    "def rbf(v1,v2,gamma=20):\n",
    "    dv=[v1[i]-v2[i] for i in range(len(v1))]\n",
    "    l=veclength(dv)\n",
    "    return math.e**(-gamma*l)"
   ]
  },
  {
   "cell_type": "code",
   "execution_count": 49,
   "metadata": {
    "collapsed": true
   },
   "outputs": [],
   "source": [
    "def nlclassify(point,rows,offset,gamma=10):\n",
    "    sum0=0.0\n",
    "    sum1=0.0\n",
    "    count0=0\n",
    "    count1=0\n",
    "    \n",
    "    for row in rows:\n",
    "        if row.match==0:\n",
    "            sum0+=rbf(point,row.data,gamma)\n",
    "            count0+=1\n",
    "        else:\n",
    "            sum1+=rbf(point,row.data,gamma)\n",
    "            count1+=1\n",
    "    y=(1.0/count0)*sum0-(1.0/count1)*sum1+offset\n",
    "    \n",
    "    if y<0: return 0\n",
    "    else: return 1\n",
    "    \n",
    "def getoffset(rows,gamma=10):\n",
    "    l0=[]\n",
    "    l1=[]\n",
    "    for row in rows:\n",
    "        if row.match==0: l0.append(row.data)\n",
    "        else: l1.append(row.data)\n",
    "    sum0=sum(sum([rbf(v1,v2,gamma) for v1 in l0]) for v2 in l0)\n",
    "    sum1=sum(sum([rbf(v1,v2,gamma) for v1 in l1]) for v2 in l1)\n",
    "    return (1.0/(len(l1)**2))*sum1-(1.0/(len(l0)**2))*sum0"
   ]
  },
  {
   "cell_type": "code",
   "execution_count": null,
   "metadata": {
    "collapsed": true
   },
   "outputs": [],
   "source": []
  }
 ],
 "metadata": {
  "kernelspec": {
   "display_name": "Python 2",
   "language": "python",
   "name": "python2"
  },
  "language_info": {
   "codemirror_mode": {
    "name": "ipython",
    "version": 2
   },
   "file_extension": ".py",
   "mimetype": "text/x-python",
   "name": "python",
   "nbconvert_exporter": "python",
   "pygments_lexer": "ipython2",
   "version": "2.7.13"
  }
 },
 "nbformat": 4,
 "nbformat_minor": 0
}
