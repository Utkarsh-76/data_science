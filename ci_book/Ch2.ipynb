{
 "cells": [
  {
   "cell_type": "code",
   "execution_count": 1,
   "metadata": {
    "collapsed": true
   },
   "outputs": [],
   "source": [
    "# A dictionary of movie critics and their ratings of a small\n",
    "# set of movies\n",
    "critics={'Lisa Rose': {'Lady in the Water': 2.5, 'Snakes on a Plane': 3.5,\n",
    "'Just My Luck': 3.0, 'Superman Returns': 3.5, 'You, Me and Dupree': 2.5,\n",
    "'The Night Listener': 3.0},\n",
    "'Gene Seymour': {'Lady in the Water': 3.0, 'Snakes on a Plane': 3.5,\n",
    "'Just My Luck': 1.5, 'Superman Returns': 5.0, 'The Night Listener': 3.0,\n",
    "'You, Me and Dupree': 3.5},\n",
    "'Michael Phillips': {'Lady in the Water': 2.5, 'Snakes on a Plane': 3.0,\n",
    "'Superman Returns': 3.5, 'The Night Listener': 4.0},\n",
    "'Claudia Puig': {'Snakes on a Plane': 3.5, 'Just My Luck': 3.0,\n",
    "'The Night Listener': 4.5, 'Superman Returns': 4.0,\n",
    "'You, Me and Dupree': 2.5},\n",
    "'Mick LaSalle': {'Lady in the Water': 3.0, 'Snakes on a Plane': 4.0,\n",
    "'Just My Luck': 2.0, 'Superman Returns': 3.0, 'The Night Listener': 3.0,\n",
    "'You, Me and Dupree': 2.0},\n",
    "'Jack Matthews': {'Lady in the Water': 3.0, 'Snakes on a Plane': 4.0,\n",
    "'The Night Listener': 3.0, 'Superman Returns': 5.0, 'You, Me and Dupree': 3.5},\n",
    "'Toby': {'Snakes on a Plane':4.5,'You, Me and Dupree':1.0,'Superman Returns':4.0}}"
   ]
  },
  {
   "cell_type": "code",
   "execution_count": 2,
   "metadata": {
    "collapsed": true
   },
   "outputs": [],
   "source": [
    "from math import sqrt\n",
    "# Returns a distance-based similarity score for person1 and person2\n",
    "def sim_distance(prefs,person1,person2):\n",
    "    sum_of_squares=sum([pow(prefs[person1][item]-prefs[person2][item],2)\n",
    "                      for item in prefs[person1] if item in prefs[person2]])\n",
    "    return 1/(1+sum_of_squares)"
   ]
  },
  {
   "cell_type": "code",
   "execution_count": 3,
   "metadata": {
    "collapsed": false
   },
   "outputs": [
    {
     "data": {
      "text/plain": [
       "0.14814814814814814"
      ]
     },
     "execution_count": 3,
     "metadata": {},
     "output_type": "execute_result"
    }
   ],
   "source": [
    "sim_distance(critics,'Lisa Rose','Gene Seymour')"
   ]
  },
  {
   "cell_type": "code",
   "execution_count": 4,
   "metadata": {
    "collapsed": true
   },
   "outputs": [],
   "source": [
    "# Returns the Pearson correlation coefficient for p1 and p2\n",
    "def sim_pearson(prefs,p1,p2):\n",
    "    # Get the list of mutually rated items\n",
    "    si={}\n",
    "    for item in prefs[p1]:\n",
    "        if item in prefs[p2]: si[item]=1\n",
    "    # Find the number of elements\n",
    "    n=len(si)\n",
    "    # if they are no ratings in common, return 0\n",
    "    if n==0: return 0\n",
    "    # Add up all the preferences\n",
    "    sum1=sum([prefs[p1][it] for it in si])\n",
    "    sum2=sum([prefs[p2][it] for it in si])\n",
    "    # Sum up the squares\n",
    "    sum1Sq=sum([pow(prefs[p1][it],2) for it in si])\n",
    "    sum2Sq=sum([pow(prefs[p2][it],2) for it in si])\n",
    "    # Sum up the products\n",
    "    pSum=sum([prefs[p1][it]*prefs[p2][it] for it in si])\n",
    "    # Calculate Pearson score\n",
    "    num=pSum-(sum1*sum2/n)\n",
    "    den=sqrt((sum1Sq-pow(sum1,2)/n)*(sum2Sq-pow(sum2,2)/n))\n",
    "    if den==0: return 0\n",
    "    r=num/den\n",
    "    return r"
   ]
  },
  {
   "cell_type": "code",
   "execution_count": 5,
   "metadata": {
    "collapsed": false
   },
   "outputs": [
    {
     "data": {
      "text/plain": [
       "0.39605901719066977"
      ]
     },
     "execution_count": 5,
     "metadata": {},
     "output_type": "execute_result"
    }
   ],
   "source": [
    "sim_pearson(critics,'Lisa Rose','Gene Seymour')"
   ]
  },
  {
   "cell_type": "code",
   "execution_count": 6,
   "metadata": {
    "collapsed": true
   },
   "outputs": [],
   "source": [
    "def transformPrefs(prefs):\n",
    "    result={}\n",
    "    for person in prefs:\n",
    "        for item in prefs[person]:\n",
    "            result.setdefault(item,{})\n",
    "            # Flip item and person\n",
    "            result[item][person]=prefs[person][item]\n",
    "    return result"
   ]
  },
  {
   "cell_type": "code",
   "execution_count": 7,
   "metadata": {
    "collapsed": true
   },
   "outputs": [],
   "source": [
    "# Returns the best matches for person from the prefs dictionary.\n",
    "# Number of results and similarity function are optional params.\n",
    "def topMatches(prefs,person,n=5,similarity=sim_pearson):\n",
    "    scores=[(similarity(prefs,person,other),other) for other in prefs if other!=person]\n",
    "    # Sort the list so the highest scores appear at the top \n",
    "    scores.sort( )\n",
    "    scores.reverse( )\n",
    "    return scores[0:n]"
   ]
  },
  {
   "cell_type": "code",
   "execution_count": 8,
   "metadata": {
    "collapsed": false
   },
   "outputs": [
    {
     "data": {
      "text/plain": [
       "[(0.9912407071619299, 'Lisa Rose'),\n",
       " (0.9244734516419049, 'Mick LaSalle'),\n",
       " (0.8934051474415647, 'Claudia Puig')]"
      ]
     },
     "execution_count": 8,
     "metadata": {},
     "output_type": "execute_result"
    }
   ],
   "source": [
    "topMatches(critics,'Toby', n = 3)"
   ]
  },
  {
   "cell_type": "code",
   "execution_count": 9,
   "metadata": {
    "collapsed": true
   },
   "outputs": [],
   "source": [
    "def calculateSimilarItems(prefs,n=10):\n",
    "    # Create a dictionary of items showing which other items they\n",
    "    # are most similar to.\n",
    "    result={}\n",
    "    # Invert the preference matrix to be item-centric\n",
    "    itemPrefs=transformPrefs(prefs)\n",
    "    c=0\n",
    "    for item in itemPrefs:\n",
    "        # Status updates for large datasets\n",
    "        c+=1\n",
    "        if c%100==0: print(\"%d / %d\" % (c,len(itemPrefs)))\n",
    "        # Find the most similar items to this one\n",
    "        scores=topMatches(itemPrefs,item,n=n,similarity=sim_distance)\n",
    "        result[item]=scores\n",
    "    return result"
   ]
  },
  {
   "cell_type": "code",
   "execution_count": 10,
   "metadata": {
    "collapsed": false
   },
   "outputs": [
    {
     "data": {
      "text/plain": [
       "{'Just My Luck': [(0.2222222222222222, 'Lady in the Water'),\n",
       "  (0.18181818181818182, 'You, Me and Dupree'),\n",
       "  (0.15384615384615385, 'The Night Listener'),\n",
       "  (0.10526315789473684, 'Snakes on a Plane'),\n",
       "  (0.06451612903225806, 'Superman Returns')],\n",
       " 'Lady in the Water': [(0.4, 'You, Me and Dupree'),\n",
       "  (0.2857142857142857, 'The Night Listener'),\n",
       "  (0.2222222222222222, 'Snakes on a Plane'),\n",
       "  (0.2222222222222222, 'Just My Luck'),\n",
       "  (0.09090909090909091, 'Superman Returns')],\n",
       " 'Snakes on a Plane': [(0.2222222222222222, 'Lady in the Water'),\n",
       "  (0.18181818181818182, 'The Night Listener'),\n",
       "  (0.16666666666666666, 'Superman Returns'),\n",
       "  (0.10526315789473684, 'Just My Luck'),\n",
       "  (0.05128205128205128, 'You, Me and Dupree')],\n",
       " 'Superman Returns': [(0.16666666666666666, 'Snakes on a Plane'),\n",
       "  (0.10256410256410256, 'The Night Listener'),\n",
       "  (0.09090909090909091, 'Lady in the Water'),\n",
       "  (0.06451612903225806, 'Just My Luck'),\n",
       "  (0.05333333333333334, 'You, Me and Dupree')],\n",
       " 'The Night Listener': [(0.2857142857142857, 'Lady in the Water'),\n",
       "  (0.18181818181818182, 'Snakes on a Plane'),\n",
       "  (0.15384615384615385, 'Just My Luck'),\n",
       "  (0.14814814814814814, 'You, Me and Dupree'),\n",
       "  (0.10256410256410256, 'Superman Returns')],\n",
       " 'You, Me and Dupree': [(0.4, 'Lady in the Water'),\n",
       "  (0.18181818181818182, 'Just My Luck'),\n",
       "  (0.14814814814814814, 'The Night Listener'),\n",
       "  (0.05333333333333334, 'Superman Returns'),\n",
       "  (0.05128205128205128, 'Snakes on a Plane')]}"
      ]
     },
     "execution_count": 10,
     "metadata": {},
     "output_type": "execute_result"
    }
   ],
   "source": [
    "itemsim=calculateSimilarItems(critics)\n",
    "itemsim"
   ]
  },
  {
   "cell_type": "code",
   "execution_count": 11,
   "metadata": {
    "collapsed": true
   },
   "outputs": [],
   "source": [
    "# Gets recommendations for a person by using a weighted average\n",
    "# of every other user's rankings\n",
    "def getRecommendations(prefs,person,similarity=sim_pearson):\n",
    "    totals={}\n",
    "    simSums={}\n",
    "    for other in prefs:\n",
    "    # don't compare me to myself\n",
    "        if other==person: continue\n",
    "        sim=similarity(prefs,person,other)\n",
    "        # ignore scores of zero or lower\n",
    "        if sim<=0: continue\n",
    "        for item in prefs[other]:\n",
    "            # only score movies I haven't seen yet\n",
    "            if item not in prefs[person] or prefs[person][item]==0:\n",
    "            # Similarity * Score \n",
    "                totals.setdefault(item,0) \n",
    "                totals[item]+=prefs[other][item]*sim \n",
    "                # Sum of similarities \n",
    "                simSums.setdefault(item,0) \n",
    "                simSums[item]+=sim\n",
    "    # Create the normalized list\n",
    "    rankings=[(total/simSums[item],item) for item,total in totals.items()]\n",
    "    # Return the sorted list \n",
    "    rankings.sort( ) \n",
    "    rankings.reverse( ) \n",
    "    return rankings"
   ]
  },
  {
   "cell_type": "code",
   "execution_count": 12,
   "metadata": {
    "collapsed": true
   },
   "outputs": [],
   "source": [
    "def getRecommendedItems(prefs,itemMatch,user):\n",
    "    userRatings=prefs[user]\n",
    "    scores={}\n",
    "    totalSim={}\n",
    "    # Loop over items rated by this user\n",
    "    for (item,rating) in userRatings.items():\n",
    "        # Loop over items similar to this one\n",
    "        for (similarity,item2) in itemMatch[item]:\n",
    "            # Ignore if this user has already rated this item\n",
    "            if item2 in userRatings: continue\n",
    "            # Weighted sum of rating times similarity\n",
    "            scores.setdefault(item2,0)\n",
    "            scores[item2]+=similarity*rating\n",
    "            # Sum of all the similarities\n",
    "            totalSim.setdefault(item2,0)\n",
    "            totalSim[item2]+=similarity\n",
    "    # Divide each total score by total weighting to get an average \n",
    "    rankings=[(score/totalSim[item],item) for item,score in scores.items()]\n",
    "    # Return the rankings from highest to lowest \n",
    "    rankings.sort( )\n",
    "    rankings.reverse( )\n",
    "    return rankings"
   ]
  },
  {
   "cell_type": "code",
   "execution_count": 13,
   "metadata": {
    "collapsed": false
   },
   "outputs": [
    {
     "data": {
      "text/plain": [
       "[(3.182634730538922, 'The Night Listener'),\n",
       " (2.5983318700614575, 'Just My Luck'),\n",
       " (2.4730878186968837, 'Lady in the Water')]"
      ]
     },
     "execution_count": 13,
     "metadata": {},
     "output_type": "execute_result"
    }
   ],
   "source": [
    "getRecommendedItems(critics,itemsim,'Toby')"
   ]
  },
  {
   "cell_type": "code",
   "execution_count": 23,
   "metadata": {
    "collapsed": true
   },
   "outputs": [],
   "source": [
    "import io\n",
    "def loadMovieLens(path='resources\\ml_100k'):\n",
    "    # Get movie titles\n",
    "    movies={}\n",
    "    for line in io.open(path+'/u.item', encoding = \"ISO-8859-1\"):\n",
    "        (id,title)=line.split('|')[0:2]\n",
    "        movies[id]=title\n",
    "    # Load data\n",
    "    prefs={}\n",
    "    for line in open(path+'/u.data'):\n",
    "        (user,movieid,rating,ts)=line.split('\\t')\n",
    "        prefs.setdefault(user,{})\n",
    "        prefs[user][movies[movieid]]=float(rating)\n",
    "    return prefs"
   ]
  },
  {
   "cell_type": "code",
   "execution_count": 29,
   "metadata": {
    "collapsed": false
   },
   "outputs": [
    {
     "data": {
      "text/plain": [
       "{u'2001: A Space Odyssey (1968)': 5.0,\n",
       " u'Ace Ventura: Pet Detective (1994)': 4.0,\n",
       " u'Addams Family Values (1993)': 2.0,\n",
       " u'Addicted to Love (1997)': 4.0,\n",
       " u'Adventures of Priscilla, Queen of the Desert, The (1994)': 3.0,\n",
       " u'Adventures of Robin Hood, The (1938)': 5.0,\n",
       " u'Air Force One (1997)': 3.0,\n",
       " u'Air Up There, The (1994)': 3.0,\n",
       " u'Alien (1979)': 4.0,\n",
       " u'American President, The (1995)': 5.0,\n",
       " u'Annie Hall (1977)': 4.0,\n",
       " u'Apocalypse Now (1979)': 4.0,\n",
       " u'Babe (1995)': 5.0,\n",
       " u'Baby-Sitters Club, The (1995)': 2.0,\n",
       " u'Back to the Future (1985)': 5.0,\n",
       " u'Bad Boys (1995)': 4.0,\n",
       " u'Bananas (1971)': 5.0,\n",
       " u'Barcelona (1994)': 3.0,\n",
       " u'Batman & Robin (1997)': 4.0,\n",
       " u'Batman (1989)': 3.0,\n",
       " u'Batman Returns (1992)': 3.0,\n",
       " u'Big Green, The (1995)': 3.0,\n",
       " u'Big Squeeze, The (1996)': 2.0,\n",
       " u'Birdcage, The (1996)': 4.0,\n",
       " u'Blade Runner (1982)': 4.0,\n",
       " u'Blues Brothers, The (1980)': 5.0,\n",
       " u'Boomerang (1992)': 3.0,\n",
       " u'Boot, Das (1981)': 4.0,\n",
       " u'Brady Bunch Movie, The (1995)': 2.0,\n",
       " u'Braveheart (1995)': 4.0,\n",
       " u'Bridge on the River Kwai, The (1957)': 5.0,\n",
       " u'Broken Arrow (1996)': 3.0,\n",
       " u'Butch Cassidy and the Sundance Kid (1969)': 5.0,\n",
       " u'Citizen Kane (1941)': 4.0,\n",
       " u\"City Slickers II: The Legend of Curly's Gold (1994)\": 3.0,\n",
       " u'Clear and Present Danger (1994)': 5.0,\n",
       " u'Cliffhanger (1993)': 3.0,\n",
       " u'Clockwork Orange, A (1971)': 4.0,\n",
       " u'Clueless (1995)': 4.0,\n",
       " u'Con Air (1997)': 4.0,\n",
       " u'Conan the Barbarian (1981)': 3.0,\n",
       " u'Coneheads (1993)': 4.0,\n",
       " u'Cool Hand Luke (1967)': 5.0,\n",
       " u'Cops and Robbersons (1994)': 3.0,\n",
       " u'Cowboy Way, The (1994)': 3.0,\n",
       " u'Crow, The (1994)': 3.0,\n",
       " u'Dances with Wolves (1990)': 5.0,\n",
       " u\"Dante's Peak (1997)\": 3.0,\n",
       " u'Dave (1993)': 4.0,\n",
       " u'Days of Thunder (1990)': 5.0,\n",
       " u'Dead Man Walking (1995)': 4.0,\n",
       " u'Dead Poets Society (1989)': 5.0,\n",
       " u'Deer Hunter, The (1978)': 3.0,\n",
       " u'Demolition Man (1993)': 3.0,\n",
       " u'Desperado (1995)': 3.0,\n",
       " u'Die Hard (1988)': 4.0,\n",
       " u'Die Hard: With a Vengeance (1995)': 4.0,\n",
       " u'Down Periscope (1996)': 4.0,\n",
       " u'Dragonheart (1996)': 4.0,\n",
       " u'Dumb & Dumber (1994)': 4.0,\n",
       " u'Dunston Checks In (1996)': 1.0,\n",
       " u'E.T. the Extra-Terrestrial (1982)': 3.0,\n",
       " u'Ed Wood (1994)': 3.0,\n",
       " u'Empire Strikes Back, The (1980)': 5.0,\n",
       " u'Endless Summer 2, The (1994)': 3.0,\n",
       " u'Evil Dead II (1987)': 2.0,\n",
       " u'Executive Decision (1996)': 3.0,\n",
       " u'Fargo (1996)': 5.0,\n",
       " u'First Wives Club, The (1996)': 2.0,\n",
       " u'Fish Called Wanda, A (1988)': 5.0,\n",
       " u'Forget Paris (1995)': 4.0,\n",
       " u'Four Weddings and a Funeral (1994)': 5.0,\n",
       " u'French Kiss (1995)': 5.0,\n",
       " u'Fugitive, The (1993)': 5.0,\n",
       " u'Full Metal Jacket (1987)': 4.0,\n",
       " u'Get Shorty (1995)': 5.0,\n",
       " u'Glory (1989)': 4.0,\n",
       " u'Godfather, The (1972)': 4.0,\n",
       " u'GoldenEye (1995)': 4.0,\n",
       " u'Good, The Bad and The Ugly, The (1966)': 5.0,\n",
       " u'GoodFellas (1990)': 4.0,\n",
       " u'Grease (1978)': 4.0,\n",
       " u'Great White Hype, The (1996)': 3.0,\n",
       " u'Groundhog Day (1993)': 5.0,\n",
       " u'Grumpier Old Men (1995)': 4.0,\n",
       " u'Hard Target (1993)': 4.0,\n",
       " u'Heat (1995)': 3.0,\n",
       " u'Heathers (1989)': 3.0,\n",
       " u'Home Alone (1990)': 4.0,\n",
       " u'Hoop Dreams (1994)': 4.0,\n",
       " u'Hot Shots! Part Deux (1993)': 4.0,\n",
       " u'House Arrest (1996)': 3.0,\n",
       " u'I Love Trouble (1994)': 3.0,\n",
       " u'I.Q. (1994)': 5.0,\n",
       " u'In the Army Now (1994)': 4.0,\n",
       " u'In the Line of Fire (1993)': 5.0,\n",
       " u'Independence Day (ID4) (1996)': 5.0,\n",
       " u'Indiana Jones and the Last Crusade (1989)': 5.0,\n",
       " u'Inkwell, The (1994)': 3.0,\n",
       " u\"It's a Wonderful Life (1946)\": 5.0,\n",
       " u'Jack (1996)': 3.0,\n",
       " u'Jeffrey (1995)': 3.0,\n",
       " u'Jimmy Hollywood (1994)': 3.0,\n",
       " u\"Joe's Apartment (1996)\": 2.0,\n",
       " u'Junior (1994)': 4.0,\n",
       " u'Jurassic Park (1993)': 5.0,\n",
       " u'Kingpin (1996)': 4.0,\n",
       " u'Lightning Jack (1994)': 3.0,\n",
       " u'Lost World: Jurassic Park, The (1997)': 3.0,\n",
       " u'Low Down Dirty Shame, A (1994)': 3.0,\n",
       " u'M*A*S*H (1970)': 5.0,\n",
       " u'Magnificent Seven, The (1954)': 5.0,\n",
       " u'Major Payne (1994)': 3.0,\n",
       " u'Man of the House (1995)': 3.0,\n",
       " u'Manchurian Candidate, The (1962)': 4.0,\n",
       " u'Mars Attacks! (1996)': 3.0,\n",
       " u'Mask, The (1994)': 3.0,\n",
       " u'Matilda (1996)': 3.0,\n",
       " u'Maverick (1994)': 3.0,\n",
       " u'Michael (1996)': 4.0,\n",
       " u'Mighty Aphrodite (1995)': 3.0,\n",
       " u'Milk Money (1994)': 4.0,\n",
       " u'Mission: Impossible (1996)': 4.0,\n",
       " u\"Monty Python's Life of Brian (1979)\": 4.0,\n",
       " u'Mother (1996)': 2.0,\n",
       " u'Mrs. Doubtfire (1993)': 4.0,\n",
       " u'Multiplicity (1996)': 3.0,\n",
       " u'Muppet Treasure Island (1996)': 3.0,\n",
       " u'My Favorite Year (1982)': 3.0,\n",
       " u'Naked Gun 33 1/3: The Final Insult (1994)': 4.0,\n",
       " u'Net, The (1995)': 5.0,\n",
       " u'Nine Months (1995)': 4.0,\n",
       " u'Nutty Professor, The (1996)': 4.0,\n",
       " u'Platoon (1986)': 3.0,\n",
       " u'Prefontaine (1997)': 5.0,\n",
       " u'Private Benjamin (1980)': 4.0,\n",
       " u'Professional, The (1994)': 4.0,\n",
       " u'Program, The (1993)': 3.0,\n",
       " u'Pulp Fiction (1994)': 4.0,\n",
       " u\"Pyromaniac's Love Story, A (1995)\": 3.0,\n",
       " u'Quiet Man, The (1952)': 5.0,\n",
       " u'Raging Bull (1980)': 3.0,\n",
       " u'Raiders of the Lost Ark (1981)': 5.0,\n",
       " u'Raising Arizona (1987)': 3.0,\n",
       " u'Reality Bites (1994)': 3.0,\n",
       " u'Renaissance Man (1994)': 5.0,\n",
       " u'Return of the Jedi (1983)': 5.0,\n",
       " u'Return of the Pink Panther, The (1974)': 4.0,\n",
       " u'River Wild, The (1994)': 4.0,\n",
       " u'Sabrina (1995)': 4.0,\n",
       " u'Santa Clause, The (1994)': 4.0,\n",
       " u\"Schindler's List (1993)\": 4.0,\n",
       " u'Searching for Bobby Fischer (1993)': 4.0,\n",
       " u'Serial Mom (1994)': 1.0,\n",
       " u'Shadow, The (1994)': 3.0,\n",
       " u'Shawshank Redemption, The (1994)': 5.0,\n",
       " u\"Singin' in the Rain (1952)\": 4.0,\n",
       " u'Sleeper (1973)': 4.0,\n",
       " u'Sleepers (1996)': 4.0,\n",
       " u'Sleepless in Seattle (1993)': 5.0,\n",
       " u'Sneakers (1992)': 4.0,\n",
       " u'So I Married an Axe Murderer (1993)': 2.0,\n",
       " u'Something to Talk About (1995)': 2.0,\n",
       " u'Son in Law (1993)': 4.0,\n",
       " u'Speechless (1994)': 4.0,\n",
       " u'Speed (1994)': 5.0,\n",
       " u'Speed 2: Cruise Control (1997)': 3.0,\n",
       " u'Star Trek III: The Search for Spock (1984)': 4.0,\n",
       " u'Star Trek IV: The Voyage Home (1986)': 5.0,\n",
       " u'Star Trek: First Contact (1996)': 4.0,\n",
       " u'Star Trek: The Motion Picture (1979)': 3.0,\n",
       " u'Star Trek: The Wrath of Khan (1982)': 5.0,\n",
       " u'Star Wars (1977)': 5.0,\n",
       " u'Stargate (1994)': 5.0,\n",
       " u'Sting, The (1973)': 5.0,\n",
       " u'Strange Days (1995)': 3.0,\n",
       " u'Strictly Ballroom (1992)': 3.0,\n",
       " u'Striptease (1996)': 2.0,\n",
       " u'Supercop (1992)': 3.0,\n",
       " u'Swimming with Sharks (1995)': 3.0,\n",
       " u'Switchblade Sisters (1975)': 2.0,\n",
       " u'Terminator 2: Judgment Day (1991)': 5.0,\n",
       " u'Terminator, The (1984)': 5.0,\n",
       " u'That Old Feeling (1997)': 4.0,\n",
       " u'That Thing You Do! (1996)': 4.0,\n",
       " u'This Is Spinal Tap (1984)': 5.0,\n",
       " u'To Die For (1995)': 3.0,\n",
       " u'To Kill a Mockingbird (1962)': 4.0,\n",
       " u'To Wong Foo, Thanks for Everything! Julie Newmar (1995)': 3.0,\n",
       " u'Tommy Boy (1995)': 4.0,\n",
       " u'Top Gun (1986)': 5.0,\n",
       " u'Treasure of the Sierra Madre, The (1948)': 4.0,\n",
       " u'True Lies (1994)': 5.0,\n",
       " u'Truth About Cats & Dogs, The (1996)': 4.0,\n",
       " u'Twelve Monkeys (1995)': 4.0,\n",
       " u'Twister (1996)': 4.0,\n",
       " u\"Ulee's Gold (1997)\": 3.0,\n",
       " u'Under Siege (1992)': 4.0,\n",
       " u'Up in Smoke (1978)': 3.0,\n",
       " u'Vegas Vacation (1997)': 4.0,\n",
       " u'Victor/Victoria (1982)': 4.0,\n",
       " u'Waterworld (1995)': 4.0,\n",
       " u\"Weekend at Bernie's (1989)\": 3.0,\n",
       " u'When Harry Met Sally... (1989)': 5.0,\n",
       " u'While You Were Sleeping (1995)': 5.0,\n",
       " u'Wizard of Oz, The (1939)': 5.0,\n",
       " u'Wyatt Earp (1994)': 3.0,\n",
       " u'Young Frankenstein (1974)': 5.0,\n",
       " u'Young Guns (1988)': 3.0,\n",
       " u'Young Guns II (1990)': 2.0}"
      ]
     },
     "execution_count": 29,
     "metadata": {},
     "output_type": "execute_result"
    }
   ],
   "source": [
    "prefs=loadMovieLens()\n",
    "prefs['87']"
   ]
  },
  {
   "cell_type": "code",
   "execution_count": 30,
   "metadata": {
    "collapsed": false
   },
   "outputs": [
    {
     "data": {
      "text/plain": [
       "[(5.0, u'They Made Me a Criminal (1939)'),\n",
       " (5.0, u'Star Kid (1997)'),\n",
       " (5.0, u'Santa with Muscles (1996)'),\n",
       " (5.0, u'Saint of Fort Washington, The (1993)'),\n",
       " (5.0, u'Marlene Dietrich: Shadow and Light (1996) '),\n",
       " (5.0, u'Great Day in Harlem, A (1994)'),\n",
       " (5.0, u'Entertaining Angels: The Dorothy Day Story (1996)'),\n",
       " (5.0, u'Boys, Les (1997)'),\n",
       " (4.89884443128923, u'Legal Deceit (1997)'),\n",
       " (4.815019082242709, u'Letter From Death Row, A (1998)'),\n",
       " (4.7321082983941425, u'Hearts and Minds (1996)'),\n",
       " (4.696244466490867, u'Pather Panchali (1955)'),\n",
       " (4.652397061026758, u'Lamerica (1994)'),\n",
       " (4.538723693474813, u'Leading Man, The (1996)'),\n",
       " (4.535081339106103, u'Mrs. Dalloway (1997)'),\n",
       " (4.532337612572981, u'Innocents, The (1961)'),\n",
       " (4.527998574747079, u'Casablanca (1942)'),\n",
       " (4.510270149719864, u'Everest (1998)'),\n",
       " (4.493967755428439, u'Dangerous Beauty (1998)'),\n",
       " (4.485151301801342,\n",
       "  u'Wallace & Gromit: The Best of Aardman Animation (1996)'),\n",
       " (4.463287461290222, u'Wrong Trousers, The (1993)'),\n",
       " (4.450979436941035, u'Kaspar Hauser (1993)'),\n",
       " (4.431079071179518, u'Usual Suspects, The (1995)'),\n",
       " (4.427520682864959, u'Maya Lin: A Strong Clear Vision (1994)'),\n",
       " (4.414870784592075, u'Wedding Gift, The (1994)'),\n",
       " (4.377445252656464, u'Affair to Remember, An (1957)'),\n",
       " (4.376071110447771, u'Good Will Hunting (1997)'),\n",
       " (4.376011099001396, u'As Good As It Gets (1997)'),\n",
       " (4.374146179500976, u'Anna (1996)'),\n",
       " (4.367437266504598, u'Close Shave, A (1995)')]"
      ]
     },
     "execution_count": 30,
     "metadata": {},
     "output_type": "execute_result"
    }
   ],
   "source": [
    "getRecommendations(prefs,'87')[0:30]"
   ]
  },
  {
   "cell_type": "code",
   "execution_count": 31,
   "metadata": {
    "collapsed": false
   },
   "outputs": [
    {
     "name": "stdout",
     "output_type": "stream",
     "text": [
      "100 / 1664\n",
      "200 / 1664\n",
      "300 / 1664\n",
      "400 / 1664\n",
      "500 / 1664\n",
      "600 / 1664\n",
      "700 / 1664\n",
      "800 / 1664\n",
      "900 / 1664\n",
      "1000 / 1664\n",
      "1100 / 1664\n",
      "1200 / 1664\n",
      "1300 / 1664\n",
      "1400 / 1664\n",
      "1500 / 1664\n",
      "1600 / 1664\n"
     ]
    }
   ],
   "source": [
    "itemsim=calculateSimilarItems(prefs,n=50)"
   ]
  },
  {
   "cell_type": "code",
   "execution_count": 32,
   "metadata": {
    "collapsed": false
   },
   "outputs": [
    {
     "data": {
      "text/plain": [
       "[(5.0, u'U Turn (1997)'),\n",
       " (5.0, u'Star Maps (1997)'),\n",
       " (5.0, u'Shiloh (1997)'),\n",
       " (5.0, u'Palmetto (1998)'),\n",
       " (5.0, u'Newton Boys, The (1998)'),\n",
       " (5.0, u'Nelly & Monsieur Arnaud (1995)'),\n",
       " (5.0, u'Mr. Wonderful (1993)'),\n",
       " (5.0, u'Mina Tannenbaum (1994)'),\n",
       " (5.0, u'Manny & Lo (1996)'),\n",
       " (5.0, u'Love Is All There Is (1996)'),\n",
       " (5.0, u'Losing Chase (1996)'),\n",
       " (5.0, u'Letter From Death Row, A (1998)'),\n",
       " (5.0, u'Late Bloomers (1996)'),\n",
       " (5.0, u'Last Klezmer: Leopold Kozlowski, His Life and Music, The (1995)'),\n",
       " (5.0, u'Johns (1996)'),\n",
       " (5.0, u'Innocent Sleep, The (1995)'),\n",
       " (5.0, u'He Walked by Night (1948)'),\n",
       " (5.0, u'Further Gesture, A (1996)'),\n",
       " (5.0, u'For the Moment (1994)'),\n",
       " (5.0, u'Fear, The (1995)'),\n",
       " (5.0, u'Every Other Weekend (1990)'),\n",
       " (5.0, u'Everest (1998)'),\n",
       " (5.0, u'Entertaining Angels: The Dorothy Day Story (1996)'),\n",
       " (5.0, u'Damsel in Distress, A (1937)'),\n",
       " (5.0, u'Cyclo (1995)'),\n",
       " (4.833333333333333, u'Marlene Dietrich: Shadow and Light (1996) '),\n",
       " (4.8, u'Mamma Roma (1962)'),\n",
       " (4.8, u'Lotto Land (1995)'),\n",
       " (4.75, u'Rhyme & Reason (1997)'),\n",
       " (4.75, u'Night Flier (1997)')]"
      ]
     },
     "execution_count": 32,
     "metadata": {},
     "output_type": "execute_result"
    }
   ],
   "source": [
    "getRecommendedItems(prefs,itemsim,'87')[0:30]"
   ]
  },
  {
   "cell_type": "code",
   "execution_count": null,
   "metadata": {
    "collapsed": true
   },
   "outputs": [],
   "source": []
  }
 ],
 "metadata": {
  "kernelspec": {
   "display_name": "Python 2",
   "language": "python",
   "name": "python2"
  },
  "language_info": {
   "codemirror_mode": {
    "name": "ipython",
    "version": 2
   },
   "file_extension": ".py",
   "mimetype": "text/x-python",
   "name": "python",
   "nbconvert_exporter": "python",
   "pygments_lexer": "ipython2",
   "version": "2.7.11"
  }
 },
 "nbformat": 4,
 "nbformat_minor": 2
}
