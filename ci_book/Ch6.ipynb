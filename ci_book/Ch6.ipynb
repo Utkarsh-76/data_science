{
 "cells": [
  {
   "cell_type": "code",
   "execution_count": 13,
   "metadata": {
    "collapsed": true
   },
   "outputs": [],
   "source": [
    "import re\n",
    "import math\n",
    "def getwords(doc):\n",
    "    splitter=re.compile('\\\\W*')\n",
    "    \n",
    "    # Split the words by non-alpha characters\n",
    "    words=[s.lower( ) for s in splitter.split(doc) if len(s)>2 and len(s)<20]\n",
    "    \n",
    "    # Return the unique set of words only\n",
    "    return dict([(w,1) for w in words])"
   ]
  },
  {
   "cell_type": "code",
   "execution_count": 12,
   "metadata": {
    "collapsed": false
   },
   "outputs": [],
   "source": [
    "class classifier:\n",
    "    def __init__(self,getfeatures,filename=None):\n",
    "\n",
    "        # Counts of feature/category combinations\n",
    "        self.fc={}\n",
    "\n",
    "        # Counts of documents in each category\n",
    "        self.cc={}\n",
    "        self.getfeatures=getfeatures\n",
    "    \n",
    "    def train(self,item,cat):\n",
    "        features=self.getfeatures(item)\n",
    "        \n",
    "        # Increment the count for every feature with this category\n",
    "        for f in features:\n",
    "            self.incf(f,cat)\n",
    "        \n",
    "        # Increment the count for this category\n",
    "        self.incc(cat)\n",
    "        \n",
    "        self.con.commit( )\n",
    "    \n",
    "    def fprob(self,f,cat):\n",
    "        if self.catcount(cat)==0: return 0\n",
    "        \n",
    "        # The total number of times this feature appeared in this\n",
    "        # category divided by the total number of items in this category\n",
    "        return self.fcount(f,cat)/self.catcount(cat)\n",
    "    \n",
    "    def weightedprob(self,f,cat,prf,weight=1.0,ap=0.5):\n",
    "        \n",
    "        # Calculate current probability\n",
    "        basicprob=prf(f,cat)\n",
    "        \n",
    "        # Count the number of times this feature has appeared in\n",
    "        # all categories\n",
    "        totals=sum([self.fcount(f,c) for c in self.categories( )])\n",
    "        \n",
    "        # Calculate the weighted average\n",
    "        bp=((weight*ap)+(totals*basicprob))/(weight+totals)\n",
    "        return bp\n",
    "    \n",
    "    def setdb(self,dbfile):\n",
    "        self.con=sqlite.connect(dbfile)\n",
    "        self.con.execute('create table if not exists fc(feature,category,count)')\n",
    "        self.con.execute('create table if not exists cc(category,count)')\n",
    "        \n",
    "    def incf(self,f,cat):\n",
    "        count=self.fcount(f,cat)\n",
    "        if count==0:\n",
    "            self.con.execute(\"insert into fc values ('%s','%s',1)\" % (f,cat))\n",
    "        else:\n",
    "            self.con.execute(\"update fc set count=%d where feature='%s' and category='%s'\" % (count+1,f,cat))\n",
    "        \n",
    "    def fcount(self,f,cat):\n",
    "        res=self.con.execute('select count from fc where feature=\"%s\" and category=\"%s\"'%(f,cat)).fetchone( )\n",
    "        if res==None: return 0\n",
    "        else: return float(res[0])\n",
    "        \n",
    "    def incc(self,cat):\n",
    "        count=self.catcount(cat)\n",
    "        if count==0:\n",
    "            self.con.execute(\"insert into cc values ('%s',1)\" % (cat))\n",
    "        else:\n",
    "            self.con.execute(\"update cc set count=%d where category='%s'\" % (count+1,cat))\n",
    "    \n",
    "    def catcount(self,cat):\n",
    "        res=self.con.execute('select count from cc where category=\"%s\"'\n",
    "        %(cat)).fetchone( )\n",
    "        if res==None: return 0\n",
    "        else: return float(res[0])\n",
    "        \n",
    "    def categories(self):\n",
    "        cur=self.con.execute('select category from cc');\n",
    "        return [d[0] for d in cur]\n",
    "    \n",
    "    def totalcount(self):\n",
    "        res=self.con.execute('select sum(count) from cc').fetchone( );\n",
    "        if res==None: return 0\n",
    "        return res[0]\n",
    "    \n",
    "class naivebayes(classifier):\n",
    "    \n",
    "    def __init__(self,getfeatures):\n",
    "        classifier.__init__(self,getfeatures)\n",
    "        self.thresholds={}\n",
    "\n",
    "    def docprob(self,item,cat):\n",
    "        features=self.getfeatures(item)\n",
    "\n",
    "        # Multiply the probabilities of all the features together\n",
    "        p=1\n",
    "        for f in features: p*=self.weightedprob(f,cat,self.fprob)\n",
    "        return p\n",
    "\n",
    "    def prob(self,item,cat):\n",
    "        catprob=self.catcount(cat)/self.totalcount( )\n",
    "        docprob=self.docprob(item,cat)\n",
    "        return docprob*catprob\n",
    "    \n",
    "    def setthreshold(self,cat,t):\n",
    "        self.thresholds[cat]=t\n",
    "        \n",
    "    def getthreshold(self,cat):\n",
    "        if cat not in self.thresholds: return 1.0\n",
    "        return self.thresholds[cat]\n",
    "    \n",
    "    def classify(self,item,default=None):\n",
    "        probs={}\n",
    "        \n",
    "        # Find the category with the highest probability\n",
    "        max=0.0\n",
    "        for cat in self.categories( ):\n",
    "            probs[cat]=self.prob(item,cat)\n",
    "            if probs[cat]>max:\n",
    "                max=probs[cat]\n",
    "                best=cat\n",
    "        \n",
    "        # Make sure the probability exceeds threshold*next best\n",
    "        for cat in probs:\n",
    "            if cat==best: continue\n",
    "            if probs[cat]*self.getthreshold(best)>probs[best]: return default\n",
    "        return best\n",
    "    \n",
    "class fisherclassifier(classifier):\n",
    "    \n",
    "    def __init__(self,getfeatures):\n",
    "        classifier.__init__(self,getfeatures)\n",
    "        self.minimums={}\n",
    "        \n",
    "    def setminimum(self,cat,min):\n",
    "        self.minimums[cat]=min\n",
    "        \n",
    "    def getminimum(self,cat):\n",
    "        if cat not in self.minimums: return 0\n",
    "        return self.minimums[cat]\n",
    "    \n",
    "    def classify(self,item,default=None):\n",
    "        \n",
    "        # Loop through looking for the best result\n",
    "        best=default\n",
    "        max=0.0\n",
    "        for c in self.categories( ):\n",
    "            p=self.fisherprob(item,c)\n",
    "            \n",
    "            # Make sure it exceeds its minimum\n",
    "            if p>self.getminimum(c) and p>max:\n",
    "                best=c\n",
    "                max=p\n",
    "        return best\n",
    "    \n",
    "    def cprob(self,f,cat):\n",
    "        \n",
    "        # The frequency of this feature in this category\n",
    "        clf=self.fprob(f,cat)\n",
    "        if clf==0: return 0\n",
    "        \n",
    "        # The frequency of this feature in all the categories\n",
    "        freqsum=sum([self.fprob(f,c) for c in self.categories( )])\n",
    "        \n",
    "        # The probability is the frequency in this category divided by\n",
    "        # the overall frequency\n",
    "        p=clf/(freqsum)\n",
    "        return p\n",
    "    \n",
    "    def fisherprob(self,item,cat):\n",
    "        \n",
    "        # Multiply all the probabilities together\n",
    "        p=1\n",
    "        features=self.getfeatures(item)\n",
    "        for f in features:\n",
    "            p*=(self.weightedprob(f,cat,self.cprob))\n",
    "        \n",
    "        # Take the natural log and multiply by -2\n",
    "        fscore=-2*math.log(p)\n",
    "        \n",
    "        # Use the inverse chi2 function to get a probability\n",
    "        return self.invchi2(fscore,len(features)*2)\n",
    "    \n",
    "    def invchi2(self,chi,df):\n",
    "        m = chi / 2.0\n",
    "        sum = term = math.exp(-m)\n",
    "        for i in range(1, df//2):\n",
    "            term *= m / i\n",
    "            sum += term\n",
    "        return min(sum, 1.0)"
   ]
  },
  {
   "cell_type": "code",
   "execution_count": 21,
   "metadata": {
    "collapsed": false
   },
   "outputs": [
    {
     "data": {
      "text/plain": [
       "1.0"
      ]
     },
     "execution_count": 21,
     "metadata": {},
     "output_type": "execute_result"
    }
   ],
   "source": [
    "cl = classifier(getwords)\n",
    "cl.train('the quick brown fox jumps over the lazy dog','good')\n",
    "cl.train('make quick money in the online casino','bad')\n",
    "cl.fcount('brown','good')"
   ]
  },
  {
   "cell_type": "code",
   "execution_count": 22,
   "metadata": {
    "collapsed": false
   },
   "outputs": [
    {
     "data": {
      "text/plain": [
       "0.0"
      ]
     },
     "execution_count": 22,
     "metadata": {},
     "output_type": "execute_result"
    }
   ],
   "source": [
    "cl.fcount('brown','bad')"
   ]
  },
  {
   "cell_type": "code",
   "execution_count": 15,
   "metadata": {
    "collapsed": false
   },
   "outputs": [],
   "source": [
    "def sampletrain(cl):\n",
    "        cl.train('Nobody owns the water.','good')\n",
    "        cl.train('the quick rabbit jumps fences','good')\n",
    "        cl.train('buy pharmaceuticals now','bad')\n",
    "        cl.train('make quick money at the online casino','bad')\n",
    "        cl.train('the quick brown fox jumps','good')"
   ]
  },
  {
   "cell_type": "code",
   "execution_count": 33,
   "metadata": {
    "collapsed": false
   },
   "outputs": [
    {
     "data": {
      "text/plain": [
       "0.25"
      ]
     },
     "execution_count": 33,
     "metadata": {},
     "output_type": "execute_result"
    }
   ],
   "source": [
    "cl=classifier(getwords)\n",
    "sampletrain(cl)\n",
    "cl.fprob('quick','good')\n",
    "cl.weightedprob('money','good',cl.fprob)"
   ]
  },
  {
   "cell_type": "code",
   "execution_count": 34,
   "metadata": {
    "collapsed": false
   },
   "outputs": [
    {
     "data": {
      "text/plain": [
       "0.16666666666666666"
      ]
     },
     "execution_count": 34,
     "metadata": {},
     "output_type": "execute_result"
    }
   ],
   "source": [
    "sampletrain(cl)\n",
    "cl.weightedprob('money','good',cl.fprob)"
   ]
  },
  {
   "cell_type": "code",
   "execution_count": 47,
   "metadata": {
    "collapsed": false
   },
   "outputs": [
    {
     "data": {
      "text/plain": [
       "'good'"
      ]
     },
     "execution_count": 47,
     "metadata": {},
     "output_type": "execute_result"
    }
   ],
   "source": [
    "cl=naivebayes(getwords)\n",
    "sampletrain(cl)\n",
    "cl.classify('quick rabbit',default='unknown')"
   ]
  },
  {
   "cell_type": "code",
   "execution_count": 48,
   "metadata": {
    "collapsed": false
   },
   "outputs": [
    {
     "data": {
      "text/plain": [
       "'bad'"
      ]
     },
     "execution_count": 48,
     "metadata": {},
     "output_type": "execute_result"
    }
   ],
   "source": [
    "cl.classify('quick money',default='unknown')"
   ]
  },
  {
   "cell_type": "code",
   "execution_count": 50,
   "metadata": {
    "collapsed": false
   },
   "outputs": [
    {
     "data": {
      "text/plain": [
       "'unknown'"
      ]
     },
     "execution_count": 50,
     "metadata": {},
     "output_type": "execute_result"
    }
   ],
   "source": [
    "cl.setthreshold('bad',3.0)\n",
    "cl.classify('quick money',default='unknown')"
   ]
  },
  {
   "cell_type": "code",
   "execution_count": 54,
   "metadata": {
    "collapsed": false
   },
   "outputs": [
    {
     "data": {
      "text/plain": [
       "'bad'"
      ]
     },
     "execution_count": 54,
     "metadata": {},
     "output_type": "execute_result"
    }
   ],
   "source": [
    "for i in range(10): sampletrain(cl)\n",
    "cl.classify('quick money',default='unknown')"
   ]
  },
  {
   "cell_type": "code",
   "execution_count": 65,
   "metadata": {
    "collapsed": false
   },
   "outputs": [
    {
     "data": {
      "text/plain": [
       "0.5714285714285715"
      ]
     },
     "execution_count": 65,
     "metadata": {},
     "output_type": "execute_result"
    }
   ],
   "source": [
    "cl=fisherclassifier(getwords)\n",
    "sampletrain(cl)\n",
    "cl.cprob('quick','good')"
   ]
  },
  {
   "cell_type": "code",
   "execution_count": 66,
   "metadata": {
    "collapsed": false
   },
   "outputs": [
    {
     "data": {
      "text/plain": [
       "0.78013986588958"
      ]
     },
     "execution_count": 66,
     "metadata": {},
     "output_type": "execute_result"
    }
   ],
   "source": [
    "cl.fisherprob('quick rabbit','good')"
   ]
  },
  {
   "cell_type": "code",
   "execution_count": 67,
   "metadata": {
    "collapsed": false
   },
   "outputs": [
    {
     "data": {
      "text/plain": [
       "0.3563359628333526"
      ]
     },
     "execution_count": 67,
     "metadata": {},
     "output_type": "execute_result"
    }
   ],
   "source": [
    "cl.fisherprob('quick rabbit','bad')"
   ]
  },
  {
   "cell_type": "code",
   "execution_count": 71,
   "metadata": {
    "collapsed": true
   },
   "outputs": [],
   "source": [
    "cl=fisherclassifier(getwords)\n",
    "sampletrain(cl)"
   ]
  },
  {
   "cell_type": "code",
   "execution_count": 73,
   "metadata": {
    "collapsed": false
   },
   "outputs": [
    {
     "data": {
      "text/plain": [
       "'good'"
      ]
     },
     "execution_count": 73,
     "metadata": {},
     "output_type": "execute_result"
    }
   ],
   "source": [
    "cl.classify('quick rabbit')"
   ]
  },
  {
   "cell_type": "code",
   "execution_count": 74,
   "metadata": {
    "collapsed": false
   },
   "outputs": [
    {
     "data": {
      "text/plain": [
       "'bad'"
      ]
     },
     "execution_count": 74,
     "metadata": {},
     "output_type": "execute_result"
    }
   ],
   "source": [
    "cl.classify('quick money')"
   ]
  },
  {
   "cell_type": "code",
   "execution_count": 75,
   "metadata": {
    "collapsed": false
   },
   "outputs": [
    {
     "data": {
      "text/plain": [
       "'good'"
      ]
     },
     "execution_count": 75,
     "metadata": {},
     "output_type": "execute_result"
    }
   ],
   "source": [
    "cl.setminimum('bad',0.8)\n",
    "cl.classify('quick money')"
   ]
  },
  {
   "cell_type": "code",
   "execution_count": 77,
   "metadata": {
    "collapsed": false
   },
   "outputs": [
    {
     "data": {
      "text/plain": [
       "'good'"
      ]
     },
     "execution_count": 77,
     "metadata": {},
     "output_type": "execute_result"
    }
   ],
   "source": [
    "cl.setminimum('good',0.4)\n",
    "cl.classify('quick money')"
   ]
  },
  {
   "cell_type": "code",
   "execution_count": 10,
   "metadata": {
    "collapsed": false
   },
   "outputs": [],
   "source": [
    "from sqlite3 import dbapi2 as sqlite"
   ]
  },
  {
   "cell_type": "code",
   "execution_count": 18,
   "metadata": {
    "collapsed": false
   },
   "outputs": [
    {
     "data": {
      "text/plain": [
       "u'bad'"
      ]
     },
     "execution_count": 18,
     "metadata": {},
     "output_type": "execute_result"
    }
   ],
   "source": [
    "cl=fisherclassifier(getwords)\n",
    "cl.setdb('resources/test1.db')\n",
    "sampletrain(cl)\n",
    "cl2=naivebayes(getwords)\n",
    "cl2.setdb('resources/test1.db')\n",
    "cl2.classify('quick money')"
   ]
  },
  {
   "cell_type": "code",
   "execution_count": 23,
   "metadata": {
    "collapsed": true
   },
   "outputs": [],
   "source": [
    "import feedparser\n",
    "import re\n",
    "\n",
    "# Takes a filename of URL of a blog feed and classifies the entries\n",
    "def read(feed,classifier):\n",
    "    \n",
    "    # Get feed entries and loop over them\n",
    "    f=feedparser.parse(feed)\n",
    "    for entry in f['entries']:\n",
    "        print\n",
    "        print '-----'\n",
    "\n",
    "        # Print the contents of the entry\n",
    "        print 'Title: '+entry['title'].encode('utf-8')\n",
    "        print 'Publisher: '+entry['publisher'].encode('utf-8')\n",
    "        print\n",
    "        print entry['summary'].encode('utf-8')\n",
    "\n",
    "        # Combine all the text to create one item for the classifier\n",
    "        fulltext='%s\\n%s\\n%s' % (entry['title'],entry['publisher'],entry['summary'])\n",
    "\n",
    "        # Print the best guess at the current category\n",
    "        print 'Guess: '+str(classifier.classify(entry))\n",
    "\n",
    "        # Ask the user to specify the correct category and train on that\n",
    "        cl=raw_input('Enter category: ')\n",
    "        classifier.train(entry,cl)"
   ]
  },
  {
   "cell_type": "code",
   "execution_count": 26,
   "metadata": {
    "collapsed": true
   },
   "outputs": [],
   "source": [
    "def entryfeatures(entry):\n",
    "    splitter=re.compile('\\\\W*')\n",
    "    f={}\n",
    "    \n",
    "    # Extract the title words and annotate\n",
    "    titlewords=[s.lower( ) for s in splitter.split(entry['title']) if len(s)>2 and len(s)<20]\n",
    "    for w in titlewords: f['Title:'+w]=1\n",
    "        \n",
    "    # Extract the summary words\n",
    "    summarywords=[s.lower( ) for s in splitter.split(entry['summary']) if len(s)>2 and len(s)<20]\n",
    "    \n",
    "    # Count uppercase words\n",
    "    uc=0\n",
    "    for i in range(len(summarywords)):\n",
    "        w=summarywords[i]\n",
    "        f[w]=1\n",
    "        if w.isupper( ): uc+=1\n",
    "        \n",
    "        # Get word pairs in summary as features\n",
    "        if i<len(summarywords)-1:\n",
    "            twowords=' '.join(summarywords[i:i+1])\n",
    "            f[twowords]=1\n",
    "    \n",
    "    # Keep creator and publisher whole\n",
    "    f['Publisher:'+entry['publisher']]=1\n",
    "    \n",
    "    # UPPERCASE is a virtual word flagging too much shouting\n",
    "    if float(uc)/len(summarywords)>0.3: f['UPPERCASE']=1\n",
    "    return f"
   ]
  }
 ],
 "metadata": {
  "kernelspec": {
   "display_name": "Python 2",
   "language": "python",
   "name": "python2"
  },
  "language_info": {
   "codemirror_mode": {
    "name": "ipython",
    "version": 2
   },
   "file_extension": ".py",
   "mimetype": "text/x-python",
   "name": "python",
   "nbconvert_exporter": "python",
   "pygments_lexer": "ipython2",
   "version": "2.7.13"
  }
 },
 "nbformat": 4,
 "nbformat_minor": 0
}
