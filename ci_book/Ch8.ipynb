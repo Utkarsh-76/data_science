{
 "cells": [
  {
   "cell_type": "code",
   "execution_count": 37,
   "metadata": {
    "collapsed": true
   },
   "outputs": [],
   "source": [
    "from random import random,randint\n",
    "import math\n",
    "def wineprice(rating,age):\n",
    "    \n",
    "    peak_age=rating-50\n",
    "    \n",
    "    # Calculate price based on rating\n",
    "    price=rating/2\n",
    "    if age>peak_age:\n",
    "        \n",
    "        # Past its peak, goes bad in 5 years\n",
    "        price=price*(5-(age-peak_age))\n",
    "    else:\n",
    "        \n",
    "        # Increases to 5x original value as it\n",
    "        # approaches its peak\n",
    "        price=price*(5*((age+1)/peak_age))\n",
    "    if price<0: price=0\n",
    "    return price"
   ]
  },
  {
   "cell_type": "code",
   "execution_count": 38,
   "metadata": {
    "collapsed": true
   },
   "outputs": [],
   "source": [
    "def wineset1( ):\n",
    "    rows=[]\n",
    "    for i in range(300):\n",
    "        # Create a random age and rating\n",
    "        rating=random( )*50+50\n",
    "        age=random( )*50\n",
    "        # Get reference price\n",
    "        price=wineprice(rating,age)\n",
    "        # Add some noise\n",
    "        price*=(random( )*0.4+0.8)\n",
    "        # Add to the dataset\n",
    "        rows.append({'input':(rating,age),'result':price})\n",
    "    return rows"
   ]
  },
  {
   "cell_type": "code",
   "execution_count": 39,
   "metadata": {
    "collapsed": false
   },
   "outputs": [
    {
     "data": {
      "text/plain": [
       "21.111111111111114"
      ]
     },
     "execution_count": 39,
     "metadata": {},
     "output_type": "execute_result"
    }
   ],
   "source": [
    "wineprice(95.0,3.0)"
   ]
  },
  {
   "cell_type": "code",
   "execution_count": 40,
   "metadata": {
    "collapsed": false
   },
   "outputs": [
    {
     "data": {
      "text/plain": [
       "47.5"
      ]
     },
     "execution_count": 40,
     "metadata": {},
     "output_type": "execute_result"
    }
   ],
   "source": [
    "wineprice(95.0,8.0)"
   ]
  },
  {
   "cell_type": "code",
   "execution_count": 41,
   "metadata": {
    "collapsed": false
   },
   "outputs": [
    {
     "data": {
      "text/plain": [
       "10.102040816326529"
      ]
     },
     "execution_count": 41,
     "metadata": {},
     "output_type": "execute_result"
    }
   ],
   "source": [
    "wineprice(99.0,1.0)"
   ]
  },
  {
   "cell_type": "code",
   "execution_count": 42,
   "metadata": {
    "collapsed": true
   },
   "outputs": [],
   "source": [
    "data=wineset1( )"
   ]
  },
  {
   "cell_type": "code",
   "execution_count": 43,
   "metadata": {
    "collapsed": false
   },
   "outputs": [
    {
     "data": {
      "text/plain": [
       "{'input': (93.20622143767764, 0.6986392498119998),\n",
       " 'result': 10.896157894845828}"
      ]
     },
     "execution_count": 43,
     "metadata": {},
     "output_type": "execute_result"
    }
   ],
   "source": [
    "data[0]"
   ]
  },
  {
   "cell_type": "code",
   "execution_count": 44,
   "metadata": {
    "collapsed": true
   },
   "outputs": [],
   "source": [
    "def euclidean(v1,v2):\n",
    "    d=0.0\n",
    "    for i in range(len(v1)):\n",
    "        d+=(v1[i]-v2[i])**2\n",
    "    return math.sqrt(d)"
   ]
  },
  {
   "cell_type": "code",
   "execution_count": 45,
   "metadata": {
    "collapsed": false
   },
   "outputs": [
    {
     "data": {
      "text/plain": [
       "48.87881646180093"
      ]
     },
     "execution_count": 45,
     "metadata": {},
     "output_type": "execute_result"
    }
   ],
   "source": [
    "euclidean(data[0]['input'],data[1]['input'])"
   ]
  },
  {
   "cell_type": "code",
   "execution_count": 46,
   "metadata": {
    "collapsed": false
   },
   "outputs": [],
   "source": [
    "def getdistances(data,vec1):\n",
    "    distancelist=[]\n",
    "    for i in range(len(data)):\n",
    "        vec2=data[i]['input']\n",
    "        distancelist.append((euclidean(vec1,vec2),i))\n",
    "    distancelist.sort( )\n",
    "    return distancelist"
   ]
  },
  {
   "cell_type": "code",
   "execution_count": 47,
   "metadata": {
    "collapsed": true
   },
   "outputs": [],
   "source": [
    "def knnestimate(data,vec1,k=3):\n",
    "    # Get sorted distances\n",
    "    dlist=getdistances(data,vec1)\n",
    "    avg=0.0\n",
    "    # Take the average of the top k results\n",
    "    for i in range(k):\n",
    "        idx=dlist[i][1]\n",
    "        avg+=data[idx]['result']\n",
    "    avg=avg/k\n",
    "    return avg"
   ]
  },
  {
   "cell_type": "code",
   "execution_count": 48,
   "metadata": {
    "collapsed": false
   },
   "outputs": [
    {
     "data": {
      "text/plain": [
       "19.331261836651183"
      ]
     },
     "execution_count": 48,
     "metadata": {},
     "output_type": "execute_result"
    }
   ],
   "source": [
    "knnestimate(data,(95.0,3.0))"
   ]
  },
  {
   "cell_type": "code",
   "execution_count": 49,
   "metadata": {
    "collapsed": true
   },
   "outputs": [],
   "source": [
    "def inverseweight(dist,num=1.0,const=0.1):\n",
    "    return num/(dist+const)"
   ]
  },
  {
   "cell_type": "code",
   "execution_count": 50,
   "metadata": {
    "collapsed": true
   },
   "outputs": [],
   "source": [
    "def subtractweight(dist,const=1.0):\n",
    "    if dist>const:\n",
    "        return 0\n",
    "    else:\n",
    "        return const-dist"
   ]
  },
  {
   "cell_type": "code",
   "execution_count": 51,
   "metadata": {
    "collapsed": true
   },
   "outputs": [],
   "source": [
    "def gaussian(dist,sigma=1.0):\n",
    "    return math.e**(-dist**2/(2*sigma**2))"
   ]
  },
  {
   "cell_type": "code",
   "execution_count": 52,
   "metadata": {
    "collapsed": false
   },
   "outputs": [
    {
     "data": {
      "text/plain": [
       "0.01110899653824231"
      ]
     },
     "execution_count": 52,
     "metadata": {},
     "output_type": "execute_result"
    }
   ],
   "source": [
    "gaussian(3.0)"
   ]
  },
  {
   "cell_type": "code",
   "execution_count": 53,
   "metadata": {
    "collapsed": true
   },
   "outputs": [],
   "source": [
    "def weightedknn(data,vec1,k=5,weightf=gaussian):\n",
    "    \n",
    "    # Get distances\n",
    "    dlist=getdistances(data,vec1)\n",
    "    avg=0.0\n",
    "    totalweight=0.0\n",
    "    \n",
    "    # Get weighted average\n",
    "    for i in range(k):\n",
    "        dist=dlist[i][0]\n",
    "        idx=dlist[i][1]\n",
    "        weight=weightf(dist)\n",
    "        avg+=weight*data[idx]['result']\n",
    "        totalweight+=weight\n",
    "    avg=avg/totalweight\n",
    "    return avg"
   ]
  },
  {
   "cell_type": "code",
   "execution_count": 54,
   "metadata": {
    "collapsed": false
   },
   "outputs": [
    {
     "data": {
      "text/plain": [
       "24.572437208431477"
      ]
     },
     "execution_count": 54,
     "metadata": {},
     "output_type": "execute_result"
    }
   ],
   "source": [
    "weightedknn(data,(99.0,5.0))"
   ]
  },
  {
   "cell_type": "code",
   "execution_count": 55,
   "metadata": {
    "collapsed": true
   },
   "outputs": [],
   "source": [
    "def dividedata(data,test=0.05):\n",
    "    trainset=[]\n",
    "    testset=[]\n",
    "    for row in data:\n",
    "        if random()<test:\n",
    "            testset.append(row)\n",
    "        else:\n",
    "            trainset.append(row)\n",
    "    return trainset,testset"
   ]
  },
  {
   "cell_type": "code",
   "execution_count": 56,
   "metadata": {
    "collapsed": true
   },
   "outputs": [],
   "source": [
    "def testalgorithm(algf,trainset,testset):\n",
    "    error=0.0\n",
    "    for row in testset:\n",
    "        guess=algf(trainset,row['input'])\n",
    "        error+=(row['result']-guess)**2\n",
    "    return error/len(testset)"
   ]
  },
  {
   "cell_type": "code",
   "execution_count": 57,
   "metadata": {
    "collapsed": true
   },
   "outputs": [],
   "source": [
    "def crossvalidate(algf,data,trials=100,test=0.05):\n",
    "    error=0.0\n",
    "    for i in range(trials):\n",
    "        trainset,testset=dividedata(data,test)\n",
    "        error+=testalgorithm(algf,trainset,testset)\n",
    "    return error/trials"
   ]
  },
  {
   "cell_type": "code",
   "execution_count": 58,
   "metadata": {
    "collapsed": false
   },
   "outputs": [
    {
     "data": {
      "text/plain": [
       "523.7454039769893"
      ]
     },
     "execution_count": 58,
     "metadata": {},
     "output_type": "execute_result"
    }
   ],
   "source": [
    "crossvalidate(knnestimate,data)"
   ]
  },
  {
   "cell_type": "code",
   "execution_count": 59,
   "metadata": {
    "collapsed": false
   },
   "outputs": [
    {
     "data": {
      "text/plain": [
       "604.702049554983"
      ]
     },
     "execution_count": 59,
     "metadata": {},
     "output_type": "execute_result"
    }
   ],
   "source": [
    "def knn3(d,v): return knnestimate(d,v,k=3)\n",
    "crossvalidate(knn3,data)"
   ]
  },
  {
   "cell_type": "code",
   "execution_count": 60,
   "metadata": {
    "collapsed": false
   },
   "outputs": [
    {
     "data": {
      "text/plain": [
       "914.097551697671"
      ]
     },
     "execution_count": 60,
     "metadata": {},
     "output_type": "execute_result"
    }
   ],
   "source": [
    "def knn1(d,v): return knnestimate(d,v,k=1)\n",
    "crossvalidate(knn1,data)"
   ]
  },
  {
   "cell_type": "code",
   "execution_count": 61,
   "metadata": {
    "collapsed": false
   },
   "outputs": [
    {
     "data": {
      "text/plain": [
       "682.9692145529377"
      ]
     },
     "execution_count": 61,
     "metadata": {},
     "output_type": "execute_result"
    }
   ],
   "source": [
    "crossvalidate(weightedknn,data)"
   ]
  },
  {
   "cell_type": "code",
   "execution_count": 62,
   "metadata": {
    "collapsed": false
   },
   "outputs": [
    {
     "data": {
      "text/plain": [
       "581.068739644397"
      ]
     },
     "execution_count": 62,
     "metadata": {},
     "output_type": "execute_result"
    }
   ],
   "source": [
    "def knninverse(d,v):\n",
    "    return weightedknn(d,v,weightf=inverseweight)\n",
    "crossvalidate(knninverse,data)"
   ]
  },
  {
   "cell_type": "code",
   "execution_count": 63,
   "metadata": {
    "collapsed": true
   },
   "outputs": [],
   "source": [
    "def wineset2( ):\n",
    "    rows=[]\n",
    "    for i in range(300):\n",
    "        # Create a random age and rating\n",
    "        rating=random( )*50+50\n",
    "        age=random( )*50\n",
    "        aisle=float(randint(1,20))\n",
    "        bottlesize=[375.0,750.0,1500.0,3000.0][randint(0,3)]\n",
    "        # Get reference price\n",
    "        price=wineprice(rating,age)\n",
    "        # Add some noise\n",
    "        price*=(bottlesize/750)\n",
    "        price*=(random( )*0.4+0.8)\n",
    "        # Add to the dataset\n",
    "        rows.append({'input':(rating,age,aisle,bottlesize),'result':price})\n",
    "    return rows"
   ]
  },
  {
   "cell_type": "code",
   "execution_count": 64,
   "metadata": {
    "collapsed": true
   },
   "outputs": [],
   "source": [
    "data=wineset2( )"
   ]
  },
  {
   "cell_type": "code",
   "execution_count": 65,
   "metadata": {
    "collapsed": false
   },
   "outputs": [
    {
     "data": {
      "text/plain": [
       "10331.532952451158"
      ]
     },
     "execution_count": 65,
     "metadata": {},
     "output_type": "execute_result"
    }
   ],
   "source": [
    "crossvalidate(weightedknn,data)"
   ]
  },
  {
   "cell_type": "code",
   "execution_count": 66,
   "metadata": {
    "collapsed": false
   },
   "outputs": [
    {
     "data": {
      "text/plain": [
       "10414.827446599724"
      ]
     },
     "execution_count": 66,
     "metadata": {},
     "output_type": "execute_result"
    }
   ],
   "source": [
    "crossvalidate(weightedknn,data)"
   ]
  },
  {
   "cell_type": "code",
   "execution_count": 67,
   "metadata": {
    "collapsed": true
   },
   "outputs": [],
   "source": [
    "def rescale(data,scale):\n",
    "    scaleddata=[]\n",
    "    for row in data:\n",
    "        scaled=[scale[i]*row['input'][i] for i in range(len(scale))]\n",
    "        scaleddata.append({'input':scaled,'result':row['result']})\n",
    "    return scaleddata"
   ]
  },
  {
   "cell_type": "code",
   "execution_count": 69,
   "metadata": {
    "collapsed": false
   },
   "outputs": [
    {
     "data": {
      "text/plain": [
       "5812.117322807933"
      ]
     },
     "execution_count": 69,
     "metadata": {},
     "output_type": "execute_result"
    }
   ],
   "source": [
    "sdata=rescale(data,[10,10,0,0.5])\n",
    "crossvalidate(knn3,sdata)"
   ]
  },
  {
   "cell_type": "code",
   "execution_count": 70,
   "metadata": {
    "collapsed": false
   },
   "outputs": [
    {
     "ename": "ZeroDivisionError",
     "evalue": "float division by zero",
     "output_type": "error",
     "traceback": [
      "\u001b[1;31m---------------------------------------------------------------------------\u001b[0m",
      "\u001b[1;31mZeroDivisionError\u001b[0m                         Traceback (most recent call last)",
      "\u001b[1;32m<ipython-input-70-1daa7ca7a604>\u001b[0m in \u001b[0;36m<module>\u001b[1;34m()\u001b[0m\n\u001b[1;32m----> 1\u001b[1;33m \u001b[0mcrossvalidate\u001b[0m\u001b[1;33m(\u001b[0m\u001b[0mweightedknn\u001b[0m\u001b[1;33m,\u001b[0m\u001b[0msdata\u001b[0m\u001b[1;33m)\u001b[0m\u001b[1;33m\u001b[0m\u001b[0m\n\u001b[0m",
      "\u001b[1;32m<ipython-input-57-0edd94b0efd9>\u001b[0m in \u001b[0;36mcrossvalidate\u001b[1;34m(algf, data, trials, test)\u001b[0m\n\u001b[0;32m      3\u001b[0m     \u001b[1;32mfor\u001b[0m \u001b[0mi\u001b[0m \u001b[1;32min\u001b[0m \u001b[0mrange\u001b[0m\u001b[1;33m(\u001b[0m\u001b[0mtrials\u001b[0m\u001b[1;33m)\u001b[0m\u001b[1;33m:\u001b[0m\u001b[1;33m\u001b[0m\u001b[0m\n\u001b[0;32m      4\u001b[0m         \u001b[0mtrainset\u001b[0m\u001b[1;33m,\u001b[0m\u001b[0mtestset\u001b[0m\u001b[1;33m=\u001b[0m\u001b[0mdividedata\u001b[0m\u001b[1;33m(\u001b[0m\u001b[0mdata\u001b[0m\u001b[1;33m,\u001b[0m\u001b[0mtest\u001b[0m\u001b[1;33m)\u001b[0m\u001b[1;33m\u001b[0m\u001b[0m\n\u001b[1;32m----> 5\u001b[1;33m         \u001b[0merror\u001b[0m\u001b[1;33m+=\u001b[0m\u001b[0mtestalgorithm\u001b[0m\u001b[1;33m(\u001b[0m\u001b[0malgf\u001b[0m\u001b[1;33m,\u001b[0m\u001b[0mtrainset\u001b[0m\u001b[1;33m,\u001b[0m\u001b[0mtestset\u001b[0m\u001b[1;33m)\u001b[0m\u001b[1;33m\u001b[0m\u001b[0m\n\u001b[0m\u001b[0;32m      6\u001b[0m     \u001b[1;32mreturn\u001b[0m \u001b[0merror\u001b[0m\u001b[1;33m/\u001b[0m\u001b[0mtrials\u001b[0m\u001b[1;33m\u001b[0m\u001b[0m\n",
      "\u001b[1;32m<ipython-input-56-546b17614f83>\u001b[0m in \u001b[0;36mtestalgorithm\u001b[1;34m(algf, trainset, testset)\u001b[0m\n\u001b[0;32m      2\u001b[0m     \u001b[0merror\u001b[0m\u001b[1;33m=\u001b[0m\u001b[1;36m0.0\u001b[0m\u001b[1;33m\u001b[0m\u001b[0m\n\u001b[0;32m      3\u001b[0m     \u001b[1;32mfor\u001b[0m \u001b[0mrow\u001b[0m \u001b[1;32min\u001b[0m \u001b[0mtestset\u001b[0m\u001b[1;33m:\u001b[0m\u001b[1;33m\u001b[0m\u001b[0m\n\u001b[1;32m----> 4\u001b[1;33m         \u001b[0mguess\u001b[0m\u001b[1;33m=\u001b[0m\u001b[0malgf\u001b[0m\u001b[1;33m(\u001b[0m\u001b[0mtrainset\u001b[0m\u001b[1;33m,\u001b[0m\u001b[0mrow\u001b[0m\u001b[1;33m[\u001b[0m\u001b[1;34m'input'\u001b[0m\u001b[1;33m]\u001b[0m\u001b[1;33m)\u001b[0m\u001b[1;33m\u001b[0m\u001b[0m\n\u001b[0m\u001b[0;32m      5\u001b[0m         \u001b[0merror\u001b[0m\u001b[1;33m+=\u001b[0m\u001b[1;33m(\u001b[0m\u001b[0mrow\u001b[0m\u001b[1;33m[\u001b[0m\u001b[1;34m'result'\u001b[0m\u001b[1;33m]\u001b[0m\u001b[1;33m-\u001b[0m\u001b[0mguess\u001b[0m\u001b[1;33m)\u001b[0m\u001b[1;33m**\u001b[0m\u001b[1;36m2\u001b[0m\u001b[1;33m\u001b[0m\u001b[0m\n\u001b[0;32m      6\u001b[0m     \u001b[1;32mreturn\u001b[0m \u001b[0merror\u001b[0m\u001b[1;33m/\u001b[0m\u001b[0mlen\u001b[0m\u001b[1;33m(\u001b[0m\u001b[0mtestset\u001b[0m\u001b[1;33m)\u001b[0m\u001b[1;33m\u001b[0m\u001b[0m\n",
      "\u001b[1;32m<ipython-input-53-edd55c7f886f>\u001b[0m in \u001b[0;36mweightedknn\u001b[1;34m(data, vec1, k, weightf)\u001b[0m\n\u001b[0;32m     13\u001b[0m         \u001b[0mavg\u001b[0m\u001b[1;33m+=\u001b[0m\u001b[0mweight\u001b[0m\u001b[1;33m*\u001b[0m\u001b[0mdata\u001b[0m\u001b[1;33m[\u001b[0m\u001b[0midx\u001b[0m\u001b[1;33m]\u001b[0m\u001b[1;33m[\u001b[0m\u001b[1;34m'result'\u001b[0m\u001b[1;33m]\u001b[0m\u001b[1;33m\u001b[0m\u001b[0m\n\u001b[0;32m     14\u001b[0m         \u001b[0mtotalweight\u001b[0m\u001b[1;33m+=\u001b[0m\u001b[0mweight\u001b[0m\u001b[1;33m\u001b[0m\u001b[0m\n\u001b[1;32m---> 15\u001b[1;33m     \u001b[0mavg\u001b[0m\u001b[1;33m=\u001b[0m\u001b[0mavg\u001b[0m\u001b[1;33m/\u001b[0m\u001b[0mtotalweight\u001b[0m\u001b[1;33m\u001b[0m\u001b[0m\n\u001b[0m\u001b[0;32m     16\u001b[0m     \u001b[1;32mreturn\u001b[0m \u001b[0mavg\u001b[0m\u001b[1;33m\u001b[0m\u001b[0m\n",
      "\u001b[1;31mZeroDivisionError\u001b[0m: float division by zero"
     ]
    }
   ],
   "source": [
    "crossvalidate(weightedknn,sdata)"
   ]
  },
  {
   "cell_type": "code",
   "execution_count": 71,
   "metadata": {
    "collapsed": true
   },
   "outputs": [],
   "source": [
    "def createcostfunction(algf,data):\n",
    "    def costf(scale):\n",
    "        sdata=rescale(data,scale)\n",
    "        return crossvalidate(algf,sdata,trials=10)\n",
    "    return costf"
   ]
  },
  {
   "cell_type": "code",
   "execution_count": 72,
   "metadata": {
    "collapsed": true
   },
   "outputs": [],
   "source": [
    "weightdomain=[(0,20)]*4"
   ]
  },
  {
   "cell_type": "code",
   "execution_count": 73,
   "metadata": {
    "collapsed": true
   },
   "outputs": [],
   "source": [
    "import random as ran\n",
    "def annealingoptimize(domain,costf,T=10000.0,cool=0.95,step=1):\n",
    "    \n",
    "    # Initialize the values randomly\n",
    "    vec=[float(ran.randint(domain[i][0],domain[i][1])) for i in range(len(domain))]\n",
    "    \n",
    "    while T>0.1:\n",
    "\n",
    "        # Choose one of the indices\n",
    "        i=ran.randint(0,len(domain)-1)\n",
    "\n",
    "        # Choose a direction to change it\n",
    "        dir=ran.randint(-step,step)\n",
    "\n",
    "        # Create a new list with one of the values changed\n",
    "        vecb=vec[:]\n",
    "        vecb[i]+=dir\n",
    "        if vecb[i]<domain[i][0]: vecb[i]=domain[i][0]\n",
    "        elif vecb[i]>domain[i][1]: vecb[i]=domain[i][1]\n",
    "\n",
    "        # Calculate the current cost and the new cost \n",
    "        ea=costf(vec)\n",
    "        eb=costf(vecb)\n",
    "        p=pow(math.e,(-eb-ea)/T)\n",
    "\n",
    "        # Is it better, or does it make the probability # cutoff?\n",
    "        if (eb<ea or ran.random()<p):\n",
    "            vec=vecb\n",
    "\n",
    "        # Decrease the temperature\n",
    "        T=T*cool\n",
    "    \n",
    "    vec = [int(n) for n in vec]\n",
    "    return vec"
   ]
  },
  {
   "cell_type": "code",
   "execution_count": 74,
   "metadata": {
    "collapsed": false
   },
   "outputs": [
    {
     "data": {
      "text/plain": [
       "[19, 7, 0, 8]"
      ]
     },
     "execution_count": 74,
     "metadata": {},
     "output_type": "execute_result"
    }
   ],
   "source": [
    "costf=createcostfunction(knnestimate,data)\n",
    "annealingoptimize(weightdomain,costf,step=2)"
   ]
  },
  {
   "cell_type": "code",
   "execution_count": 75,
   "metadata": {
    "collapsed": true
   },
   "outputs": [],
   "source": [
    "def wineset3( ):\n",
    "    rows=wineset1( )\n",
    "    for row in rows:\n",
    "        if random( )<0.5:\n",
    "            # Wine was bought at a discount store\n",
    "            row['result']*=0.6\n",
    "    return rows"
   ]
  },
  {
   "cell_type": "code",
   "execution_count": 76,
   "metadata": {
    "collapsed": true
   },
   "outputs": [],
   "source": [
    "data=wineset3( )"
   ]
  },
  {
   "cell_type": "code",
   "execution_count": 77,
   "metadata": {
    "collapsed": false
   },
   "outputs": [
    {
     "data": {
      "text/plain": [
       "106.07142857142857"
      ]
     },
     "execution_count": 77,
     "metadata": {},
     "output_type": "execute_result"
    }
   ],
   "source": [
    "wineprice(99.0,20.0)"
   ]
  },
  {
   "cell_type": "code",
   "execution_count": 79,
   "metadata": {
    "collapsed": false
   },
   "outputs": [
    {
     "data": {
      "text/plain": [
       "90.41713433451625"
      ]
     },
     "execution_count": 79,
     "metadata": {},
     "output_type": "execute_result"
    }
   ],
   "source": [
    "weightedknn(data,[99.0,20.0])"
   ]
  },
  {
   "cell_type": "code",
   "execution_count": 80,
   "metadata": {
    "collapsed": false
   },
   "outputs": [
    {
     "data": {
      "text/plain": [
       "777.5550458181597"
      ]
     },
     "execution_count": 80,
     "metadata": {},
     "output_type": "execute_result"
    }
   ],
   "source": [
    "crossvalidate(weightedknn,data)"
   ]
  },
  {
   "cell_type": "code",
   "execution_count": 81,
   "metadata": {
    "collapsed": true
   },
   "outputs": [],
   "source": [
    "def probguess(data,vec1,low,high,k=5,weightf=gaussian):\n",
    "    dlist=getdistances(data,vec1)\n",
    "    nweight=0.0\n",
    "    tweight=0.0\n",
    "    \n",
    "    for i in range(k):\n",
    "        dist=dlist[i][0]\n",
    "        idx=dlist[i][1]\n",
    "        weight=weightf(dist)\n",
    "        v=data[idx]['result']\n",
    "        \n",
    "        # Is this point in the range?\n",
    "        if v>=low and v<=high:\n",
    "            nweight+=weight\n",
    "        tweight+=weight\n",
    "    if tweight==0: return 0\n",
    "    \n",
    "    # The probability is the weights in the range\n",
    "    # divided by all the weights\n",
    "    return nweight/tweight"
   ]
  },
  {
   "cell_type": "code",
   "execution_count": 82,
   "metadata": {
    "collapsed": false
   },
   "outputs": [
    {
     "data": {
      "text/plain": [
       "0.03681970822169888"
      ]
     },
     "execution_count": 82,
     "metadata": {},
     "output_type": "execute_result"
    }
   ],
   "source": [
    "probguess(data,[99,20],40,80)"
   ]
  },
  {
   "cell_type": "code",
   "execution_count": 83,
   "metadata": {
    "collapsed": false
   },
   "outputs": [
    {
     "data": {
      "text/plain": [
       "0.9631802917783011"
      ]
     },
     "execution_count": 83,
     "metadata": {},
     "output_type": "execute_result"
    }
   ],
   "source": [
    "probguess(data,[99,20],80,120)"
   ]
  },
  {
   "cell_type": "code",
   "execution_count": 84,
   "metadata": {
    "collapsed": false
   },
   "outputs": [
    {
     "data": {
      "text/plain": [
       "0.0"
      ]
     },
     "execution_count": 84,
     "metadata": {},
     "output_type": "execute_result"
    }
   ],
   "source": [
    "probguess(data,[99,20],120,1000)"
   ]
  },
  {
   "cell_type": "code",
   "execution_count": 85,
   "metadata": {
    "collapsed": false
   },
   "outputs": [
    {
     "data": {
      "text/plain": [
       "1.0"
      ]
     },
     "execution_count": 85,
     "metadata": {},
     "output_type": "execute_result"
    }
   ],
   "source": [
    "probguess(data,[99,20],30,120)"
   ]
  },
  {
   "cell_type": "code",
   "execution_count": 86,
   "metadata": {
    "collapsed": false
   },
   "outputs": [],
   "source": [
    "def cumulativegraph(data,vec1,high,k=5,weightf=gaussian):\n",
    "    t1=arange(0.0,high,0.1)\n",
    "    cprob=array([probguess(data,vec1,0,v,k,weightf) for v in t1])\n",
    "    plot(t1,cprob)\n",
    "    show( )"
   ]
  },
  {
   "cell_type": "code",
   "execution_count": 89,
   "metadata": {
    "collapsed": true
   },
   "outputs": [],
   "source": [
    "cumulativegraph(data,(1,1),6)"
   ]
  },
  {
   "cell_type": "code",
   "execution_count": 91,
   "metadata": {
    "collapsed": true
   },
   "outputs": [],
   "source": [
    "def probabilitygraph(data,vec1,high,k=5,weightf=gaussian,ss=5.0):\n",
    "    \n",
    "    # Make a range for the prices\n",
    "    t1=arange(0.0,high,0.1)\n",
    "\n",
    "    # Get the probabilities for the entire range\n",
    "    probs=[probguess(data,vec1,v,v+0.1,k,weightf) for v in t1]\n",
    "\n",
    "    # Smooth them by adding the gaussian of the nearby probabilites\n",
    "    smoothed=[]\n",
    "    for i in range(len(probs)):\n",
    "        sv=0.0\n",
    "        for j in range(0,len(probs)):\n",
    "            dist=abs(i-j)*0.1\n",
    "            weight=gaussian(dist,sigma=ss)\n",
    "            sv+=weight*probs[j]\n",
    "        smoothed.append(sv)\n",
    "    smoothed=array(smoothed)\n",
    "    plot(t1,smoothed)\n",
    "    show( )"
   ]
  },
  {
   "cell_type": "code",
   "execution_count": 92,
   "metadata": {
    "collapsed": true
   },
   "outputs": [],
   "source": [
    "probabilitygraph(data,(1,1),6)"
   ]
  }
 ],
 "metadata": {
  "kernelspec": {
   "display_name": "Python 2",
   "language": "python",
   "name": "python2"
  },
  "language_info": {
   "codemirror_mode": {
    "name": "ipython",
    "version": 2
   },
   "file_extension": ".py",
   "mimetype": "text/x-python",
   "name": "python",
   "nbconvert_exporter": "python",
   "pygments_lexer": "ipython2",
   "version": "2.7.13"
  }
 },
 "nbformat": 4,
 "nbformat_minor": 0
}
