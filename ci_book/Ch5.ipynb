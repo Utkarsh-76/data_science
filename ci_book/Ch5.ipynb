{
 "cells": [
  {
   "cell_type": "code",
   "execution_count": 1,
   "metadata": {},
   "outputs": [],
   "source": [
    "import time\n",
    "import random\n",
    "import math\n",
    "people = [('Seymour','BOS'),\n",
    "          ('Franny','DAL'),\n",
    "          ('Zooey','CAK'),\n",
    "          ('Walt','MIA'),\n",
    "          ('Buddy','ORD'),\n",
    "          ('Les','OMA')]\n",
    "# LaGuardia airport in New York\n",
    "destination='LGA'"
   ]
  },
  {
   "cell_type": "code",
   "execution_count": 2,
   "metadata": {},
   "outputs": [],
   "source": [
    "flights = {}\n",
    "\n",
    "for line in open('resources/schedule.txt'):\n",
    "    origin,dest,depart,arrive,price=line.strip( ).split(',')\n",
    "    flights.setdefault((origin,dest),[])\n",
    "    flights[(origin,dest)].append([depart,arrive,price])"
   ]
  },
  {
   "cell_type": "code",
   "execution_count": 3,
   "metadata": {},
   "outputs": [
    {
     "data": {
      "text/plain": [
       "{('BOS', 'LGA'): [['6:17', '8:26', '89'],\n",
       "  ['8:04', '10:11', '95'],\n",
       "  ['9:45', '11:50', '172'],\n",
       "  ['11:16', '13:29', '83'],\n",
       "  ['12:34', '15:02', '109'],\n",
       "  ['13:40', '15:37', '138'],\n",
       "  ['15:27', '17:18', '151'],\n",
       "  ['17:11', '18:30', '108'],\n",
       "  ['18:34', '19:36', '136'],\n",
       "  ['20:17', '22:22', '102']],\n",
       " ('CAK', 'LGA'): [['6:08', '8:06', '224'],\n",
       "  ['8:27', '10:45', '139'],\n",
       "  ['9:15', '12:14', '247'],\n",
       "  ['10:53', '13:36', '189'],\n",
       "  ['12:08', '14:59', '149'],\n",
       "  ['13:40', '15:38', '137'],\n",
       "  ['15:23', '17:25', '232'],\n",
       "  ['17:08', '19:08', '262'],\n",
       "  ['18:35', '20:28', '204'],\n",
       "  ['20:30', '23:11', '114']],\n",
       " ('DAL', 'LGA'): [['6:12', '10:22', '230'],\n",
       "  ['7:53', '11:37', '433'],\n",
       "  ['9:08', '12:12', '364'],\n",
       "  ['10:30', '14:57', '290'],\n",
       "  ['12:19', '15:25', '342'],\n",
       "  ['13:54', '18:02', '294'],\n",
       "  ['15:44', '18:55', '382'],\n",
       "  ['16:52', '20:48', '448'],\n",
       "  ['18:26', '21:29', '464'],\n",
       "  ['20:07', '23:27', '473']],\n",
       " ('LGA', 'BOS'): [['6:39', '8:09', '86'],\n",
       "  ['8:23', '10:28', '149'],\n",
       "  ['9:58', '11:18', '130'],\n",
       "  ['10:33', '12:03', '74'],\n",
       "  ['12:08', '14:05', '142'],\n",
       "  ['13:39', '15:30', '74'],\n",
       "  ['15:25', '16:58', '62'],\n",
       "  ['17:03', '18:03', '103'],\n",
       "  ['18:24', '20:49', '124'],\n",
       "  ['19:58', '21:23', '142']],\n",
       " ('LGA', 'CAK'): [['6:58', '9:01', '238'],\n",
       "  ['8:19', '11:16', '122'],\n",
       "  ['9:58', '12:56', '249'],\n",
       "  ['10:32', '13:16', '139'],\n",
       "  ['12:01', '13:41', '267'],\n",
       "  ['13:37', '15:33', '142'],\n",
       "  ['15:50', '18:45', '243'],\n",
       "  ['16:33', '18:15', '253'],\n",
       "  ['18:17', '21:04', '259'],\n",
       "  ['19:46', '21:45', '214']],\n",
       " ('LGA', 'DAL'): [['6:09', '9:49', '414'],\n",
       "  ['7:57', '11:15', '347'],\n",
       "  ['9:49', '13:51', '229'],\n",
       "  ['10:51', '14:16', '256'],\n",
       "  ['12:20', '16:34', '500'],\n",
       "  ['14:20', '17:32', '332'],\n",
       "  ['15:49', '20:10', '497'],\n",
       "  ['17:14', '20:59', '277'],\n",
       "  ['18:44', '22:42', '351'],\n",
       "  ['19:57', '23:15', '512']],\n",
       " ('LGA', 'MIA'): [['6:33', '9:14', '172'],\n",
       "  ['8:23', '11:07', '143'],\n",
       "  ['9:25', '12:46', '295'],\n",
       "  ['11:08', '14:38', '262'],\n",
       "  ['12:37', '15:05', '170'],\n",
       "  ['14:08', '16:09', '232'],\n",
       "  ['15:23', '18:49', '150'],\n",
       "  ['16:50', '19:26', '304'],\n",
       "  ['18:07', '21:30', '355'],\n",
       "  ['20:27', '23:42', '169']],\n",
       " ('LGA', 'OMA'): [['6:19', '8:13', '239'],\n",
       "  ['8:04', '10:59', '136'],\n",
       "  ['9:31', '11:43', '210'],\n",
       "  ['11:07', '13:24', '171'],\n",
       "  ['12:31', '14:02', '234'],\n",
       "  ['14:05', '15:47', '226'],\n",
       "  ['15:07', '17:21', '129'],\n",
       "  ['16:35', '18:56', '144'],\n",
       "  ['18:25', '20:34', '205'],\n",
       "  ['20:05', '21:44', '172']],\n",
       " ('LGA', 'ORD'): [['6:03', '8:43', '219'],\n",
       "  ['7:50', '10:08', '164'],\n",
       "  ['9:11', '10:42', '172'],\n",
       "  ['10:33', '13:11', '132'],\n",
       "  ['12:08', '14:47', '231'],\n",
       "  ['14:19', '17:09', '190'],\n",
       "  ['15:04', '17:23', '189'],\n",
       "  ['17:06', '20:00', '95'],\n",
       "  ['18:33', '20:22', '143'],\n",
       "  ['19:32', '21:25', '160']],\n",
       " ('MIA', 'LGA'): [['6:25', '9:30', '335'],\n",
       "  ['7:34', '9:40', '324'],\n",
       "  ['9:15', '12:29', '225'],\n",
       "  ['11:28', '14:40', '248'],\n",
       "  ['12:05', '15:30', '330'],\n",
       "  ['14:01', '17:24', '338'],\n",
       "  ['15:34', '18:11', '326'],\n",
       "  ['17:07', '20:04', '291'],\n",
       "  ['18:23', '21:35', '134'],\n",
       "  ['19:53', '22:21', '173']],\n",
       " ('OMA', 'LGA'): [['6:11', '8:31', '249'],\n",
       "  ['7:39', '10:24', '219'],\n",
       "  ['9:15', '12:03', '99'],\n",
       "  ['11:08', '13:07', '175'],\n",
       "  ['12:18', '14:56', '172'],\n",
       "  ['13:37', '15:08', '250'],\n",
       "  ['15:03', '16:42', '135'],\n",
       "  ['16:51', '19:09', '147'],\n",
       "  ['18:12', '20:17', '242'],\n",
       "  ['20:05', '22:06', '261']],\n",
       " ('ORD', 'LGA'): [['6:05', '8:32', '174'],\n",
       "  ['8:25', '10:34', '157'],\n",
       "  ['9:42', '11:32', '169'],\n",
       "  ['11:01', '12:39', '260'],\n",
       "  ['12:44', '14:17', '134'],\n",
       "  ['14:22', '16:32', '126'],\n",
       "  ['15:58', '18:40', '173'],\n",
       "  ['16:43', '19:00', '246'],\n",
       "  ['18:48', '21:45', '246'],\n",
       "  ['19:50', '22:24', '269']]}"
      ]
     },
     "execution_count": 3,
     "metadata": {},
     "output_type": "execute_result"
    }
   ],
   "source": [
    "flights"
   ]
  },
  {
   "cell_type": "code",
   "execution_count": 4,
   "metadata": {},
   "outputs": [],
   "source": [
    "def getminutes(t):\n",
    "    x=time.strptime(t,'%H:%M')\n",
    "    return x[3]*60+x[4]"
   ]
  },
  {
   "cell_type": "code",
   "execution_count": 5,
   "metadata": {},
   "outputs": [],
   "source": [
    "def printschedule(r):\n",
    "    for d in range(len(r)/2):\n",
    "        name=people[d][0]\n",
    "        origin=people[d][1]\n",
    "        out=flights[(origin,destination)][r[d]]\n",
    "        ret=flights[(destination,origin)][r[d+1]]\n",
    "        print '%10s%10s %5s-%5s $%3s %5s-%5s $%3s' % (name,origin,\n",
    "                                                    out[0],out[1],out[2],\n",
    "                                                    ret[0],ret[1],ret[2])"
   ]
  },
  {
   "cell_type": "code",
   "execution_count": 6,
   "metadata": {},
   "outputs": [
    {
     "name": "stdout",
     "output_type": "stream",
     "text": [
      "   Seymour       BOS  8:04-10:11 $ 95 12:08-14:05 $142\n",
      "    Franny       DAL 12:19-15:25 $342 10:51-14:16 $256\n",
      "     Zooey       CAK 10:53-13:36 $189  9:58-12:56 $249\n",
      "      Walt       MIA  9:15-12:29 $225 16:50-19:26 $304\n",
      "     Buddy       ORD 16:43-19:00 $246 10:33-13:11 $132\n",
      "       Les       OMA 11:08-13:07 $175 15:07-17:21 $129\n"
     ]
    }
   ],
   "source": [
    "s=[1,4,3,2,7,3,6,3,2,4,5,3]\n",
    "printschedule(s)"
   ]
  },
  {
   "cell_type": "code",
   "execution_count": 7,
   "metadata": {},
   "outputs": [],
   "source": [
    "def schedulecost(sol):\n",
    "    totalprice=0\n",
    "    latestarrival=0\n",
    "    earliestdep=24*60\n",
    "    for d in range(len(sol)/2):\n",
    "        \n",
    "        # Get the inbound and outbound flights\n",
    "        origin=people[d][1]\n",
    "        outbound=flights[(origin,destination)][int(sol[d])]\n",
    "        returnf=flights[(destination,origin)][int(sol[d+1])]\n",
    "\n",
    "        # Total price is the price of all outbound and return flights\n",
    "        totalprice+=int(outbound[2])\n",
    "        totalprice+=int(returnf[2])\n",
    "\n",
    "        # Track the latest arrival and earliest departure\n",
    "        if latestarrival<getminutes(outbound[1]): latestarrival=getminutes(outbound[1])\n",
    "        if earliestdep>getminutes(returnf[0]): earliestdep=getminutes(returnf[0])\n",
    "        \n",
    "    # Every person must wait at the airport until the latest person arrives.\n",
    "    # They also must arrive at the same time and wait for their flights.\n",
    "    totalwait=0\n",
    "    for d in range(len(sol)/2):\n",
    "        origin=people[d][1]\n",
    "        outbound=flights[(origin,destination)][int(sol[d])]\n",
    "        returnf=flights[(destination,origin)][int(sol[d+1])]\n",
    "        totalwait+=latestarrival-getminutes(outbound[1])\n",
    "        totalwait+=getminutes(returnf[0])-earliestdep\n",
    "    \n",
    "    # Does this solution require an extra day of car rental? That'll be $50!\n",
    "    if latestarrival>earliestdep: totalprice+=50\n",
    "    return totalprice+totalwait\n"
   ]
  },
  {
   "cell_type": "code",
   "execution_count": 8,
   "metadata": {},
   "outputs": [
    {
     "data": {
      "text/plain": [
       "5285"
      ]
     },
     "execution_count": 8,
     "metadata": {},
     "output_type": "execute_result"
    }
   ],
   "source": [
    "schedulecost(s)"
   ]
  },
  {
   "cell_type": "code",
   "execution_count": 9,
   "metadata": {},
   "outputs": [],
   "source": [
    "def randomoptimize(domain,costf):\n",
    "    best=999999999\n",
    "    bestr=None\n",
    "    \n",
    "    for i in range(10000):\n",
    "\n",
    "        # Create a random solution\n",
    "        r=[random.randint(domain[i][0],domain[i][1]) for i in range(len(domain))]\n",
    "\n",
    "        # Get the cost\n",
    "        cost=costf(r)\n",
    "\n",
    "        # Compare it to the best one so far\n",
    "        if cost<best:\n",
    "            best=cost\n",
    "            bestr=r\n",
    "    return r"
   ]
  },
  {
   "cell_type": "code",
   "execution_count": 10,
   "metadata": {},
   "outputs": [
    {
     "name": "stdout",
     "output_type": "stream",
     "text": [
      "   Seymour       BOS 12:34-15:02 $109 12:08-14:05 $142\n",
      "    Franny       DAL 12:19-15:25 $342 12:20-16:34 $500\n",
      "     Zooey       CAK 12:08-14:59 $149 16:33-18:15 $253\n",
      "      Walt       MIA 17:07-20:04 $291  6:33- 9:14 $172\n",
      "     Buddy       ORD  6:05- 8:32 $174  6:03- 8:43 $219\n",
      "       Les       OMA  6:11- 8:31 $249  6:19- 8:13 $239\n"
     ]
    }
   ],
   "source": [
    "domain=[(0,8)]*(len(people)*2)\n",
    "s=randomoptimize(domain,schedulecost)\n",
    "schedulecost(s)\n",
    "printschedule(s)"
   ]
  },
  {
   "cell_type": "code",
   "execution_count": 11,
   "metadata": {},
   "outputs": [],
   "source": [
    "def hillclimb(domain,costf):\n",
    "    \n",
    "    # Create a random solution\n",
    "    sol=[random.randint(domain[i][0],domain[i][1]) for i in range(len(domain))]\n",
    "\n",
    "    # Main loop\n",
    "    while 1:\n",
    "\n",
    "        # Create list of neighboring solutions\n",
    "        neighbors=[]\n",
    "        for j in range(len(domain)):\n",
    "\n",
    "            # One away in each direction\n",
    "            if sol[j]>domain[j][0]:\n",
    "                neighbors.append(sol[0:j]+[sol[j]+1]+sol[j+1:])\n",
    "            if sol[j]<domain[j][1]:\n",
    "                neighbors.append(sol[0:j]+[sol[j]-1]+sol[j+1:])\n",
    "\n",
    "        # See what the best solution amongst the neighbors is\n",
    "        current=costf(sol)\n",
    "        best=current\n",
    "        for j in range(len(neighbors)):\n",
    "            cost=costf(neighbors[j])\n",
    "            if cost<best:\n",
    "                best=cost\n",
    "                sol=neighbors[j]\n",
    "\n",
    "        # If there's no improvement, then we've reached the top\n",
    "        if best==current:\n",
    "            break\n",
    "    return sol"
   ]
  },
  {
   "cell_type": "code",
   "execution_count": 12,
   "metadata": {},
   "outputs": [
    {
     "name": "stdout",
     "output_type": "stream",
     "text": [
      "   Seymour       BOS 12:34-15:02 $109 12:08-14:05 $142\n",
      "    Franny       DAL 12:19-15:25 $342 12:20-16:34 $500\n",
      "     Zooey       CAK 12:08-14:59 $149 16:33-18:15 $253\n",
      "      Walt       MIA 17:07-20:04 $291  6:33- 9:14 $172\n",
      "     Buddy       ORD  6:05- 8:32 $174  6:03- 8:43 $219\n",
      "       Les       OMA  6:11- 8:31 $249  6:19- 8:13 $239\n"
     ]
    }
   ],
   "source": [
    "best=hillclimb(domain,schedulecost)\n",
    "schedulecost(s)\n",
    "printschedule(s)"
   ]
  },
  {
   "cell_type": "code",
   "execution_count": 13,
   "metadata": {},
   "outputs": [],
   "source": [
    "def annealingoptimize(domain,costf,T=10000.0,cool=0.95,step=1):\n",
    "    \n",
    "    # Initialize the values randomly\n",
    "    vec=[float(random.randint(domain[i][0],domain[i][1])) for i in range(len(domain))]\n",
    "    \n",
    "    while T>0.1:\n",
    "\n",
    "        # Choose one of the indices\n",
    "        i=random.randint(0,len(domain)-1)\n",
    "\n",
    "        # Choose a direction to change it\n",
    "        dir=random.randint(-step,step)\n",
    "\n",
    "        # Create a new list with one of the values changed\n",
    "        vecb=vec[:]\n",
    "        vecb[i]+=dir\n",
    "        if vecb[i]<domain[i][0]: vecb[i]=domain[i][0]\n",
    "        elif vecb[i]>domain[i][1]: vecb[i]=domain[i][1]\n",
    "\n",
    "        # Calculate the current cost and the new cost \n",
    "        ea=costf(vec)\n",
    "        eb=costf(vecb)\n",
    "        p=pow(math.e,(-eb-ea)/T)\n",
    "\n",
    "        # Is it better, or does it make the probability # cutoff?\n",
    "        if (eb<ea or random.random()<p):\n",
    "            vec=vecb\n",
    "\n",
    "        # Decrease the temperature\n",
    "        T=T*cool\n",
    "    \n",
    "    vec = [int(n) for n in vec]\n",
    "    return vec"
   ]
  },
  {
   "cell_type": "code",
   "execution_count": 14,
   "metadata": {},
   "outputs": [
    {
     "name": "stdout",
     "output_type": "stream",
     "text": [
      "   Seymour       BOS 15:27-17:18 $151 10:33-12:03 $ 74\n",
      "    Franny       DAL 10:30-14:57 $290 10:51-14:16 $256\n",
      "     Zooey       CAK 10:53-13:36 $189 13:37-15:33 $142\n",
      "      Walt       MIA 14:01-17:24 $338  9:25-12:46 $295\n",
      "     Buddy       ORD  9:42-11:32 $169 15:04-17:23 $189\n",
      "       Les       OMA 15:03-16:42 $135  9:31-11:43 $210\n"
     ]
    }
   ],
   "source": [
    "s=annealingoptimize(domain,schedulecost)\n",
    "schedulecost(s)\n",
    "printschedule(s)"
   ]
  },
  {
   "cell_type": "code",
   "execution_count": 15,
   "metadata": {},
   "outputs": [],
   "source": [
    "def geneticoptimize(domain,costf,popsize=50,step=1,mutprob=0.2,elite=0.2,maxiter=100):\n",
    "    \n",
    "    # Mutation Operation\n",
    "    def mutate(vec):\n",
    "        i=random.randint(0,len(domain)-1)\n",
    "        if random.random()<0.5 and vec[i]>domain[i][0]:\n",
    "            return vec[0:i]+[vec[i]-step]+vec[i+1:]\n",
    "        elif vec[i]<domain[i][1]:\n",
    "            return vec[0:i]+[vec[i]+step]+vec[i+1:]\n",
    "\n",
    "    # Crossover Operation\n",
    "    def crossover(r1,r2):\n",
    "        i=random.randint(1,len(domain)-2)\n",
    "        return r1[0:i]+r2[i:]\n",
    "\n",
    "    # Build the initial population\n",
    "    pop=[]\n",
    "    for i in range(popsize):\n",
    "        vec=[random.randint(domain[i][0],domain[i][1]) for i in range(len(domain))] \n",
    "        pop.append(vec)\n",
    "    \n",
    "    # How many winners from each generation?\n",
    "    topelite=int(elite*popsize)\n",
    "    \n",
    "    # Main loop\n",
    "    for i in range(maxiter):\n",
    "        scores=[(costf(v),v) for v in pop] \n",
    "        scores.sort( )\n",
    "        ranked=[v for (s,v) in scores]\n",
    "\n",
    "        # Start with the pure winners\n",
    "        pop=ranked[0:topelite]\n",
    "\n",
    "        # Add mutated and bred forms of the winners\n",
    "        while len(pop)<popsize:\n",
    "            if random.random()<mutprob:\n",
    "\n",
    "                # Mutation\n",
    "                c=random.randint(0,topelite)\n",
    "                pop.append(mutate(ranked[c]))\n",
    "            else:\n",
    "\n",
    "                # Crossover\n",
    "                c1=random.randint(0,topelite)\n",
    "                c2=random.randint(0,topelite)\n",
    "                pop.append(crossover(ranked[c1],ranked[c2]))\n",
    "    \n",
    "        # Print current best score\n",
    "        print scores[0][0]\n",
    "    return scores[0][1]"
   ]
  },
  {
   "cell_type": "code",
   "execution_count": 19,
   "metadata": {},
   "outputs": [
    {
     "name": "stdout",
     "output_type": "stream",
     "text": [
      "4232\n",
      "4232\n",
      "4028\n",
      "4028\n",
      "3674\n",
      "3674\n",
      "3674\n",
      "3644\n",
      "3487\n",
      "3303\n",
      "3303\n",
      "3273\n",
      "3273\n",
      "3273\n",
      "3273\n",
      "3273\n",
      "3273\n",
      "3273\n",
      "3273\n",
      "3273\n",
      "3273\n",
      "3273\n",
      "3273\n",
      "3069\n",
      "3069\n",
      "3069\n",
      "3069\n",
      "3069\n",
      "3069\n",
      "3069\n",
      "3069\n",
      "3069\n",
      "3069\n",
      "3069\n",
      "3069\n",
      "3069\n",
      "3069\n",
      "3069\n",
      "3069\n",
      "3069\n",
      "3069\n",
      "3069\n",
      "3069\n",
      "3069\n",
      "3069\n",
      "3069\n",
      "3069\n",
      "3069\n",
      "3069\n",
      "3069\n",
      "3069\n",
      "3069\n",
      "3069\n",
      "3069\n",
      "3069\n",
      "3069\n",
      "3069\n",
      "3069\n",
      "3069\n",
      "3069\n",
      "3069\n",
      "3069\n",
      "3069\n",
      "3069\n",
      "3069\n",
      "3069\n",
      "3069\n",
      "3069\n",
      "3069\n",
      "3069\n",
      "3069\n",
      "3069\n",
      "3069\n",
      "3069\n",
      "3069\n",
      "3069\n",
      "3069\n",
      "3069\n",
      "3069\n",
      "3069\n",
      "3069\n",
      "3069\n",
      "3069\n",
      "3069\n",
      "3069\n",
      "3069\n",
      "3069\n",
      "3069\n",
      "3069\n",
      "3069\n",
      "3069\n",
      "3069\n",
      "3069\n",
      "3069\n",
      "3069\n",
      "3069\n",
      "3069\n",
      "3069\n",
      "3069\n",
      "3069\n",
      "   Seymour       BOS 12:34-15:02 $109 10:33-12:03 $ 74\n",
      "    Franny       DAL 10:30-14:57 $290 10:51-14:16 $256\n",
      "     Zooey       CAK 10:53-13:36 $189 10:32-13:16 $139\n",
      "      Walt       MIA 11:28-14:40 $248  9:25-12:46 $295\n",
      "     Buddy       ORD  9:42-11:32 $169 10:33-13:11 $132\n",
      "       Les       OMA 11:08-13:07 $175  9:31-11:43 $210\n"
     ]
    }
   ],
   "source": [
    "s=geneticoptimize(domain,schedulecost)\n",
    "printschedule(s)"
   ]
  },
  {
   "cell_type": "code",
   "execution_count": 20,
   "metadata": {},
   "outputs": [
    {
     "data": {
      "text/plain": [
       "<xml.dom.minidom.Document instance at 0x1046bdfc8>"
      ]
     },
     "execution_count": 20,
     "metadata": {},
     "output_type": "execute_result"
    }
   ],
   "source": [
    "import xml.dom.minidom\n",
    "dom=xml.dom.minidom.parseString('<data><rec>Hello!</rec></data>')\n",
    "dom"
   ]
  },
  {
   "cell_type": "code",
   "execution_count": 21,
   "metadata": {},
   "outputs": [
    {
     "data": {
      "text/plain": [
       "[<DOM Element: rec at 0x104728128>]"
      ]
     },
     "execution_count": 21,
     "metadata": {},
     "output_type": "execute_result"
    }
   ],
   "source": [
    "r=dom.getElementsByTagName('rec')\n",
    "r"
   ]
  },
  {
   "cell_type": "code",
   "execution_count": 22,
   "metadata": {},
   "outputs": [
    {
     "data": {
      "text/plain": [
       "<DOM Text node \"u'Hello!'\">"
      ]
     },
     "execution_count": 22,
     "metadata": {},
     "output_type": "execute_result"
    }
   ],
   "source": [
    "r[0].firstChild"
   ]
  },
  {
   "cell_type": "code",
   "execution_count": 23,
   "metadata": {},
   "outputs": [
    {
     "data": {
      "text/plain": [
       "u'Hello!'"
      ]
     },
     "execution_count": 23,
     "metadata": {},
     "output_type": "execute_result"
    }
   ],
   "source": [
    "r[0].firstChild.data"
   ]
  },
  {
   "cell_type": "code",
   "execution_count": 24,
   "metadata": {},
   "outputs": [],
   "source": [
    "import random\n",
    "import math\n",
    "# The dorms, each of which has two available spaces\n",
    "dorms=['Zeus','Athena','Hercules','Bacchus','Pluto']\n",
    "# People, along with their first and second choices\n",
    "prefs=[('Toby', ('Bacchus', 'Hercules')),\n",
    "        ('Steve', ('Zeus', 'Pluto')),\n",
    "        ('Andrea', ('Athena', 'Zeus')),\n",
    "        ('Sarah', ('Zeus', 'Pluto')),\n",
    "        ('Dave', ('Athena', 'Bacchus')),\n",
    "        ('Jeff', ('Hercules', 'Pluto')),\n",
    "        ('Fred', ('Pluto', 'Athena')),\n",
    "        ('Suzie', ('Bacchus', 'Hercules')),\n",
    "        ('Laura', ('Bacchus', 'Hercules')),\n",
    "        ('Neil', ('Hercules', 'Athena'))]"
   ]
  },
  {
   "cell_type": "code",
   "execution_count": 25,
   "metadata": {},
   "outputs": [
    {
     "data": {
      "text/plain": [
       "[(0, 9),\n",
       " (0, 8),\n",
       " (0, 7),\n",
       " (0, 6),\n",
       " (0, 5),\n",
       " (0, 4),\n",
       " (0, 3),\n",
       " (0, 2),\n",
       " (0, 1),\n",
       " (0, 0)]"
      ]
     },
     "execution_count": 25,
     "metadata": {},
     "output_type": "execute_result"
    }
   ],
   "source": [
    "# [(0,9),(0,8),(0,7),(0,6),...,(0,0)]\n",
    "domain=[(0,(len(dorms)*2)-i-1) for i in range(0,len(dorms)*2)]\n",
    "domain"
   ]
  },
  {
   "cell_type": "code",
   "execution_count": 26,
   "metadata": {},
   "outputs": [],
   "source": [
    "def printsolution(vec):\n",
    "    slots=[]\n",
    "    # Create two slots for each dorm\n",
    "    for i in range(len(dorms)): slots+=[i,i]\n",
    "    # Loop over each students assignment\n",
    "    for i in range(len(vec)):\n",
    "        x=int(vec[i])\n",
    "        # Choose the slot from the remaining ones\n",
    "        dorm=dorms[slots[x]]\n",
    "        # Show the student and assigned dorm\n",
    "        print prefs[i][0],dorm\n",
    "        # Remove this slot\n",
    "        del slots[x]"
   ]
  },
  {
   "cell_type": "code",
   "execution_count": 27,
   "metadata": {},
   "outputs": [
    {
     "name": "stdout",
     "output_type": "stream",
     "text": [
      "Toby Zeus\n",
      "Steve Zeus\n",
      "Andrea Athena\n",
      "Sarah Athena\n",
      "Dave Hercules\n",
      "Jeff Hercules\n",
      "Fred Bacchus\n",
      "Suzie Bacchus\n",
      "Laura Pluto\n",
      "Neil Pluto\n"
     ]
    }
   ],
   "source": [
    "printsolution([0,0,0,0,0,0,0,0,0,0])"
   ]
  },
  {
   "cell_type": "code",
   "execution_count": 40,
   "metadata": {},
   "outputs": [],
   "source": [
    "def dormcost(vec):\n",
    "    cost=0\n",
    "    \n",
    "    # Create list a of slots\n",
    "    slots=[0,0,1,1,2,2,3,3,4,4]\n",
    "    \n",
    "    # Loop over each student\n",
    "    for i in range(len(vec)):\n",
    "        x=int(vec[i])\n",
    "        dorm=dorms[slots[x]]\n",
    "        pref=prefs[i][1]\n",
    "        \n",
    "        # First choice costs 0, second choice costs 1\n",
    "        if pref[0]==dorm: cost+=0\n",
    "        elif pref[1]==dorm: cost+=1\n",
    "        else: cost+=3\n",
    "            \n",
    "        # Not on the list costs 3\n",
    "        # Remove selected slot\n",
    "        del slots[x]\n",
    "    return cost"
   ]
  },
  {
   "cell_type": "code",
   "execution_count": 41,
   "metadata": {},
   "outputs": [
    {
     "data": {
      "text/plain": [
       "20"
      ]
     },
     "execution_count": 41,
     "metadata": {},
     "output_type": "execute_result"
    }
   ],
   "source": [
    "s=randomoptimize(domain,dormcost)\n",
    "dormcost(s)"
   ]
  },
  {
   "cell_type": "code",
   "execution_count": 42,
   "metadata": {},
   "outputs": [
    {
     "name": "stdout",
     "output_type": "stream",
     "text": [
      "12\n"
     ]
    },
    {
     "ename": "TypeError",
     "evalue": "object of type 'NoneType' has no len()",
     "output_type": "error",
     "traceback": [
      "\u001b[0;31m---------------------------------------------------------------------------\u001b[0m",
      "\u001b[0;31mTypeError\u001b[0m                                 Traceback (most recent call last)",
      "\u001b[0;32m<ipython-input-42-cc8927e10820>\u001b[0m in \u001b[0;36m<module>\u001b[0;34m()\u001b[0m\n\u001b[0;32m----> 1\u001b[0;31m \u001b[0mgeneticoptimize\u001b[0m\u001b[0;34m(\u001b[0m\u001b[0mdomain\u001b[0m\u001b[0;34m,\u001b[0m\u001b[0mdormcost\u001b[0m\u001b[0;34m)\u001b[0m\u001b[0;34m\u001b[0m\u001b[0m\n\u001b[0m",
      "\u001b[0;32m<ipython-input-15-27a172e934f9>\u001b[0m in \u001b[0;36mgeneticoptimize\u001b[0;34m(domain, costf, popsize, step, mutprob, elite, maxiter)\u001b[0m\n\u001b[1;32m     25\u001b[0m     \u001b[0;31m# Main loop\u001b[0m\u001b[0;34m\u001b[0m\u001b[0;34m\u001b[0m\u001b[0m\n\u001b[1;32m     26\u001b[0m     \u001b[0;32mfor\u001b[0m \u001b[0mi\u001b[0m \u001b[0;32min\u001b[0m \u001b[0mrange\u001b[0m\u001b[0;34m(\u001b[0m\u001b[0mmaxiter\u001b[0m\u001b[0;34m)\u001b[0m\u001b[0;34m:\u001b[0m\u001b[0;34m\u001b[0m\u001b[0m\n\u001b[0;32m---> 27\u001b[0;31m         \u001b[0mscores\u001b[0m\u001b[0;34m=\u001b[0m\u001b[0;34m[\u001b[0m\u001b[0;34m(\u001b[0m\u001b[0mcostf\u001b[0m\u001b[0;34m(\u001b[0m\u001b[0mv\u001b[0m\u001b[0;34m)\u001b[0m\u001b[0;34m,\u001b[0m\u001b[0mv\u001b[0m\u001b[0;34m)\u001b[0m \u001b[0;32mfor\u001b[0m \u001b[0mv\u001b[0m \u001b[0;32min\u001b[0m \u001b[0mpop\u001b[0m\u001b[0;34m]\u001b[0m\u001b[0;34m\u001b[0m\u001b[0m\n\u001b[0m\u001b[1;32m     28\u001b[0m         \u001b[0mscores\u001b[0m\u001b[0;34m.\u001b[0m\u001b[0msort\u001b[0m\u001b[0;34m(\u001b[0m \u001b[0;34m)\u001b[0m\u001b[0;34m\u001b[0m\u001b[0m\n\u001b[1;32m     29\u001b[0m         \u001b[0mranked\u001b[0m\u001b[0;34m=\u001b[0m\u001b[0;34m[\u001b[0m\u001b[0mv\u001b[0m \u001b[0;32mfor\u001b[0m \u001b[0;34m(\u001b[0m\u001b[0ms\u001b[0m\u001b[0;34m,\u001b[0m\u001b[0mv\u001b[0m\u001b[0;34m)\u001b[0m \u001b[0;32min\u001b[0m \u001b[0mscores\u001b[0m\u001b[0;34m]\u001b[0m\u001b[0;34m\u001b[0m\u001b[0m\n",
      "\u001b[0;32m<ipython-input-40-3ca88b3b0a8b>\u001b[0m in \u001b[0;36mdormcost\u001b[0;34m(vec)\u001b[0m\n\u001b[1;32m      6\u001b[0m \u001b[0;34m\u001b[0m\u001b[0m\n\u001b[1;32m      7\u001b[0m     \u001b[0;31m# Loop over each student\u001b[0m\u001b[0;34m\u001b[0m\u001b[0;34m\u001b[0m\u001b[0m\n\u001b[0;32m----> 8\u001b[0;31m     \u001b[0;32mfor\u001b[0m \u001b[0mi\u001b[0m \u001b[0;32min\u001b[0m \u001b[0mrange\u001b[0m\u001b[0;34m(\u001b[0m\u001b[0mlen\u001b[0m\u001b[0;34m(\u001b[0m\u001b[0mvec\u001b[0m\u001b[0;34m)\u001b[0m\u001b[0;34m)\u001b[0m\u001b[0;34m:\u001b[0m\u001b[0;34m\u001b[0m\u001b[0m\n\u001b[0m\u001b[1;32m      9\u001b[0m         \u001b[0mx\u001b[0m\u001b[0;34m=\u001b[0m\u001b[0mint\u001b[0m\u001b[0;34m(\u001b[0m\u001b[0mvec\u001b[0m\u001b[0;34m[\u001b[0m\u001b[0mi\u001b[0m\u001b[0;34m]\u001b[0m\u001b[0;34m)\u001b[0m\u001b[0;34m\u001b[0m\u001b[0m\n\u001b[1;32m     10\u001b[0m         \u001b[0mdorm\u001b[0m\u001b[0;34m=\u001b[0m\u001b[0mdorms\u001b[0m\u001b[0;34m[\u001b[0m\u001b[0mslots\u001b[0m\u001b[0;34m[\u001b[0m\u001b[0mx\u001b[0m\u001b[0;34m]\u001b[0m\u001b[0;34m]\u001b[0m\u001b[0;34m\u001b[0m\u001b[0m\n",
      "\u001b[0;31mTypeError\u001b[0m: object of type 'NoneType' has no len()"
     ]
    }
   ],
   "source": [
    "geneticoptimize(domain,dormcost)"
   ]
  },
  {
   "cell_type": "code",
   "execution_count": 43,
   "metadata": {},
   "outputs": [
    {
     "name": "stdout",
     "output_type": "stream",
     "text": [
      "Toby Hercules\n",
      "Steve Zeus\n",
      "Andrea Pluto\n",
      "Sarah Athena\n",
      "Dave Bacchus\n",
      "Jeff Athena\n",
      "Fred Bacchus\n",
      "Suzie Zeus\n",
      "Laura Pluto\n",
      "Neil Hercules\n"
     ]
    }
   ],
   "source": [
    "printsolution(s)"
   ]
  },
  {
   "cell_type": "code",
   "execution_count": 44,
   "metadata": {},
   "outputs": [],
   "source": [
    "import math\n",
    "people=['Charlie','Augustus','Veruca','Violet','Mike','Joe','Willy','Miranda']\n",
    "links=[('Augustus', 'Willy'),\n",
    "    ('Mike', 'Joe'),\n",
    "    ('Miranda', 'Mike'),\n",
    "    ('Violet', 'Augustus'),\n",
    "    ('Miranda', 'Willy'),\n",
    "    ('Charlie', 'Mike'),\n",
    "    ('Veruca', 'Joe'),\n",
    "    ('Miranda', 'Augustus'),\n",
    "    ('Willy', 'Augustus'),\n",
    "    ('Joe', 'Charlie'),\n",
    "    ('Veruca', 'Augustus'),\n",
    "    ('Miranda', 'Joe')]"
   ]
  },
  {
   "cell_type": "code",
   "execution_count": null,
   "metadata": {},
   "outputs": [],
   "source": []
  }
 ],
 "metadata": {
  "kernelspec": {
   "display_name": "Python 2",
   "language": "python",
   "name": "python2"
  },
  "language_info": {
   "codemirror_mode": {
    "name": "ipython",
    "version": 2
   },
   "file_extension": ".py",
   "mimetype": "text/x-python",
   "name": "python",
   "nbconvert_exporter": "python",
   "pygments_lexer": "ipython2",
   "version": "2.7.9"
  }
 },
 "nbformat": 4,
 "nbformat_minor": 2
}
