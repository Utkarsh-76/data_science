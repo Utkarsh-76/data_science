{
 "cells": [
  {
   "cell_type": "code",
   "execution_count": 6,
   "metadata": {
    "collapsed": true
   },
   "outputs": [],
   "source": [
    "import feedparser\n",
    "import re\n",
    "\n",
    "# Returns title and dictionary of word counts for an RSS feed\n",
    "def getwordcounts(url):\n",
    "    # Parse the feed\n",
    "    d=feedparser.parse(url)\n",
    "    wc={}\n",
    "    # Loop over all the entries\n",
    "    for e in d.entries:\n",
    "        if 'summary' in e: summary=e.summary\n",
    "        else: summary=e.description\n",
    "        # Extract a list of words\n",
    "        words=getwords(e.title+' '+summary)\n",
    "        for word in words:\n",
    "            wc.setdefault(word,0)\n",
    "            wc[word]+=1\n",
    "        import pdb; pdb.set_trace()\n",
    "    return getattr(d.feed, 'title', 'Unknown title'), wc"
   ]
  },
  {
   "cell_type": "code",
   "execution_count": null,
   "metadata": {
    "collapsed": true
   },
   "outputs": [],
   "source": []
  },
  {
   "cell_type": "code",
   "execution_count": 7,
   "metadata": {
    "collapsed": true
   },
   "outputs": [],
   "source": [
    "def getwords(html):\n",
    "    # Remove all the HTML tags\n",
    "    txt=re.compile(r'<[^>]+>').sub('',html)\n",
    "    # Split words by all non-alpha characters\n",
    "    words=re.compile(r'[^A-Z^a-z]+').split(txt)\n",
    "    # Convert to lowercase\n",
    "    return [word.lower( ) for word in words if word!='']"
   ]
  },
  {
   "cell_type": "code",
   "execution_count": 8,
   "metadata": {
    "collapsed": false
   },
   "outputs": [],
   "source": [
    "apcount={}\n",
    "wordcounts={}\n",
    "for feedurl in file('resources/feedlist.txt','r'):\n",
    "    title,wc=getwordcounts(feedurl)\n",
    "    wordcounts[title]=wc\n",
    "    for word,count in wc.items( ):\n",
    "        apcount.setdefault(word,0)\n",
    "        if count>1:\n",
    "            apcount[word]+=1"
   ]
  },
  {
   "cell_type": "code",
   "execution_count": 10,
   "metadata": {
    "collapsed": false
   },
   "outputs": [],
   "source": [
    "d = feedparser.parse('http://feedparser.org/docs/examples/atom10.xml')"
   ]
  },
  {
   "cell_type": "code",
   "execution_count": 12,
   "metadata": {
    "collapsed": false
   },
   "outputs": [],
   "source": [
    "d = feedparser.parse('http://feeds.feedburner.com/37signals/beMH')"
   ]
  }
 ],
 "metadata": {
  "kernelspec": {
   "display_name": "Python 2",
   "language": "python",
   "name": "python2"
  },
  "language_info": {
   "codemirror_mode": {
    "name": "ipython",
    "version": 2
   },
   "file_extension": ".py",
   "mimetype": "text/x-python",
   "name": "python",
   "nbconvert_exporter": "python",
   "pygments_lexer": "ipython2",
   "version": "2.7.11"
  }
 },
 "nbformat": 4,
 "nbformat_minor": 0
}
