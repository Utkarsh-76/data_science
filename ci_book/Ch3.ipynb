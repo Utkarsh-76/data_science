{
 "cells": [
  {
   "cell_type": "code",
   "execution_count": 28,
   "metadata": {},
   "outputs": [],
   "source": [
    "import feedparser\n",
    "import re\n",
    "\n",
    "# Returns title and dictionary of word counts for an RSS feed\n",
    "def getwordcounts(url):\n",
    "    # Parse the feed\n",
    "    d=feedparser.parse(url)\n",
    "    wc={}\n",
    "    # Loop over all the entries\n",
    "    for e in d.entries:\n",
    "        if 'summary' in e: summary=e.summary\n",
    "        else: summary=e.description\n",
    "        # Extract a list of words\n",
    "        words=getwords(e.title+' '+summary)\n",
    "        for word in words:\n",
    "            wc.setdefault(word,0)\n",
    "            wc[word]+=1\n",
    "    return getattr(d.feed, 'title', 'Unknown title'), wc"
   ]
  },
  {
   "cell_type": "code",
   "execution_count": 29,
   "metadata": {},
   "outputs": [],
   "source": [
    "def getwords(html):\n",
    "    # Remove all the HTML tags\n",
    "    txt=re.compile(r'<[^>]+>').sub('',html)\n",
    "    # Split words by all non-alpha characters\n",
    "    words=re.compile(r'[^A-Z^a-z]+').split(txt)\n",
    "    # Convert to lowercase\n",
    "    return [word.lower( ) for word in words if word!='']"
   ]
  },
  {
   "cell_type": "code",
   "execution_count": 30,
   "metadata": {},
   "outputs": [],
   "source": [
    "wordlist = []\n",
    "for word,wc in apcount.items():\n",
    "    if ((wc/len(wordcounts) > 0.1) and (wc/len(wordcounts) < 0.4)):\n",
    "        wordlist.append(word)"
   ]
  },
  {
   "cell_type": "code",
   "execution_count": 36,
   "metadata": {},
   "outputs": [],
   "source": [
    "out=open('outputs/blogdata.txt','w')\n",
    "out.write('Blog')\n",
    "for word in wordlist: out.write('\\t%s' % word) \n",
    "out.write('\\n')\n",
    "for blog,wc in wordcounts.items():\n",
    "    out.write(blog)\n",
    "    for word in wordlist:\n",
    "        if word in wc: \n",
    "            out.write('\\t%d' % wc[word])\n",
    "        else: out.write('\\t0')\n",
    "    out.write('\\n')"
   ]
  },
  {
   "cell_type": "code",
   "execution_count": 11,
   "metadata": {},
   "outputs": [],
   "source": [
    "def readfile(filename):\n",
    "    lines = [line for line in open(filename)]\n",
    "    colnames=lines[0].strip( ).split('\\t')[1:]\n",
    "    rownames = []\n",
    "    data = []\n",
    "    for line in lines[1:]:\n",
    "        p = line.strip().split('\\t')\n",
    "        rownames.append(p[0])\n",
    "        data.append(p[1:])\n",
    "    return rownames,colnames,data"
   ]
  },
  {
   "cell_type": "code",
   "execution_count": 22,
   "metadata": {},
   "outputs": [
    {
     "data": {
      "text/plain": [
       "656"
      ]
     },
     "execution_count": 22,
     "metadata": {},
     "output_type": "execute_result"
    }
   ],
   "source": [
    "title,word,freq = readfile('outputs/blogdata.txt')\n",
    "len(freq[0])"
   ]
  },
  {
   "cell_type": "code",
   "execution_count": null,
   "metadata": {},
   "outputs": [],
   "source": []
  }
 ],
 "metadata": {
  "kernelspec": {
   "display_name": "Python 3",
   "language": "python",
   "name": "python3"
  },
  "language_info": {
   "codemirror_mode": {
    "name": "ipython",
    "version": 3
   },
   "file_extension": ".py",
   "mimetype": "text/x-python",
   "name": "python",
   "nbconvert_exporter": "python",
   "pygments_lexer": "ipython3",
   "version": "3.6.1"
  }
 },
 "nbformat": 4,
 "nbformat_minor": 1
}
