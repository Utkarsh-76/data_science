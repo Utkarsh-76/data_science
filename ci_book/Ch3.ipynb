{
 "cells": [
  {
   "cell_type": "code",
   "execution_count": 26,
   "metadata": {
    "collapsed": true
   },
   "outputs": [],
   "source": [
    "import feedparser\n",
    "import re\n",
    "\n",
    "# Returns title and dictionary of word counts for an RSS feed\n",
    "def getwordcounts(url):\n",
    "    # Parse the feed\n",
    "    d=feedparser.parse(url)\n",
    "    wc={}\n",
    "    # Loop over all the entries\n",
    "    for e in d.entries:\n",
    "        if 'summary' in e: summary=e.summary\n",
    "        else: summary=e.description\n",
    "        # Extract a list of words\n",
    "        words=getwords(e.title+' '+summary)\n",
    "        for word in words:\n",
    "            wc.setdefault(word,0)\n",
    "            wc[word]+=1\n",
    "    return getattr(d.feed, 'title', 'Unknown title'), wc"
   ]
  },
  {
   "cell_type": "code",
   "execution_count": 27,
   "metadata": {
    "collapsed": true
   },
   "outputs": [],
   "source": [
    "def getwords(html):\n",
    "    # Remove all the HTML tags\n",
    "    txt=re.compile(r'<[^>]+>').sub('',html)\n",
    "    # Split words by all non-alpha characters\n",
    "    words=re.compile(r'[^A-Z^a-z]+').split(txt)\n",
    "    # Convert to lowercase\n",
    "    return [word.lower( ) for word in words if word!='']"
   ]
  },
  {
   "cell_type": "code",
   "execution_count": 33,
   "metadata": {
    "collapsed": true
   },
   "outputs": [],
   "source": [
    "apcount={}\n",
    "wordcounts={}\n",
    "for feedurl in open('resources/feedlist.txt'):\n",
    "    title,wc=getwordcounts(feedurl) \n",
    "    wordcounts[title]=wc\n",
    "    for word,count in wc.items():\n",
    "        apcount.setdefault(word,0)\n",
    "        if count>1:\n",
    "            apcount[word]+=1"
   ]
  },
  {
   "cell_type": "code",
   "execution_count": 89,
   "metadata": {
    "collapsed": true
   },
   "outputs": [],
   "source": [
    "wordlist = []\n",
    "for word,wc in apcount.items():\n",
    "    if ((wc/len(wordcounts) > 0.1) and (wc/len(wordcounts) < 0.4)):\n",
    "        wordlist.append(word)"
   ]
  },
  {
   "cell_type": "code",
   "execution_count": 90,
   "metadata": {
    "collapsed": true
   },
   "outputs": [],
   "source": [
    "out=open('outputs/blogdata.txt','w')\n",
    "out.write('Blog')\n",
    "for word in wordlist: out.write('\\t%s' % word) \n",
    "out.write('\\n')\n",
    "for blog,wc in wordcounts.items():\n",
    "    out.write(blog)\n",
    "    for word in wordlist:\n",
    "        if word in wc: \n",
    "            out.write('\\t%d' % wc[word])\n",
    "        else: out.write('\\t0')\n",
    "    out.write('\\n')"
   ]
  },
  {
   "cell_type": "code",
   "execution_count": 34,
   "metadata": {
    "collapsed": true
   },
   "outputs": [],
   "source": [
    "def readfile(filename):\n",
    "    lines = [line for line in open(filename)]\n",
    "    colnames=lines[0].strip( ).split('\\t')[1:]\n",
    "    rownames = []\n",
    "    data = []\n",
    "    for line in lines[1:]:\n",
    "        p = line.strip().split('\\t')\n",
    "        rownames.append(p[0])\n",
    "        data.append([int(n) for n in p[1:]])\n",
    "    return rownames,colnames,data"
   ]
  },
  {
   "cell_type": "code",
   "execution_count": 35,
   "metadata": {
    "collapsed": true
   },
   "outputs": [],
   "source": [
    "from math import sqrt\n",
    "def pearson(v1,v2):\n",
    "    sum1 = sum(v1)\n",
    "    sum2 = sum(v2)\n",
    "    \n",
    "    sum1Sq = sum([pow(n,2) for n in v1])\n",
    "    sum2Sq = sum([pow(n,2) for n in v2])\n",
    "    \n",
    "    pSum = sum([v1[i] * v2[i] for i in range(len(v1))])\n",
    "    \n",
    "    num=pSum-(sum1*sum2/len(v1))\n",
    "    den=sqrt((sum1Sq-pow(sum1,2)/len(v1))*(sum2Sq-pow(sum2,2)/len(v1)))\n",
    "    if den==0: return 0\n",
    "    return 1.0-num/den"
   ]
  },
  {
   "cell_type": "code",
   "execution_count": 36,
   "metadata": {
    "collapsed": true
   },
   "outputs": [],
   "source": [
    "class bicluster:\n",
    "    def __init__(self,vec,left=None,right=None,distance=0.0,id=None):\n",
    "        self.left=left\n",
    "        self.right=right\n",
    "        self.vec=vec\n",
    "        self.id=id\n",
    "        self.distance=distance"
   ]
  },
  {
   "cell_type": "code",
   "execution_count": 37,
   "metadata": {
    "collapsed": true
   },
   "outputs": [],
   "source": [
    "def hcluster(rows,distance=pearson):\n",
    "    distances={}\n",
    "    currentclustid=-1\n",
    "    \n",
    "    # Clusters are initially just the rows\n",
    "    clust=[bicluster(rows[i],id=i) for i in range(len(rows))]\n",
    "    while len(clust)>1:\n",
    "        lowestpair=(0,1)\n",
    "        closest=distance(clust[0].vec,clust[1].vec)\n",
    "        \n",
    "        # loop through every pair looking for the smallest distance\n",
    "        for i in range(len(clust)):\n",
    "            for j in range(i+1,len(clust)):\n",
    "                \n",
    "            # distances is the cache of distance calculations\n",
    "                if (clust[i].id,clust[j].id) not in distances:\n",
    "                    distances[(clust[i].id,clust[j].id)]=distance(clust[i].vec,clust[j].vec)\n",
    "                d=distances[(clust[i].id,clust[j].id)]\n",
    "                if d<closest:\n",
    "                    closest=d\n",
    "                    lowestpair=(i,j)\n",
    "                    \n",
    "        # calculate the average of the two clusters\n",
    "        mergevec=[\n",
    "        (clust[lowestpair[0]].vec[i]+clust[lowestpair[1]].vec[i])/2.0 for i in range(len(clust[0].vec))]\n",
    "        \n",
    "        # create the new cluster\n",
    "        newcluster=bicluster(mergevec,left=clust[lowestpair[0]],right=clust[lowestpair[1]],distance=closest,id=currentclustid)\n",
    "        \n",
    "        # cluster ids that weren't in the original set are negative\n",
    "        currentclustid-=1\n",
    "        del clust[lowestpair[1]]\n",
    "        del clust[lowestpair[0]]\n",
    "        clust.append(newcluster)\n",
    "    return clust[0]"
   ]
  },
  {
   "cell_type": "code",
   "execution_count": 38,
   "metadata": {
    "collapsed": true
   },
   "outputs": [],
   "source": [
    "blognames,words,data=readfile('outputs/blogdata.txt')\n",
    "clust=hcluster(data)"
   ]
  },
  {
   "cell_type": "code",
   "execution_count": 39,
   "metadata": {
    "collapsed": true
   },
   "outputs": [],
   "source": [
    "def printclust(clust,labels=None,n=0):\n",
    "    # indent to make a hierarchy layout\n",
    "    for i in range(n): print(' '),\n",
    "    if clust.id<0:\n",
    "        # negative id means that this is branch\n",
    "        print('-')\n",
    "    else:\n",
    "        # positive id means that this is an endpoint\n",
    "        if labels==None: print(clust.id)\n",
    "        else: print(labels[clust.id])\n",
    "    # now print the right and left branches\n",
    "    if clust.left!=None: printclust(clust.left,labels=labels,n=n+1)\n",
    "    if clust.right!=None: printclust(clust.right,labels=labels,n=n+1)"
   ]
  },
  {
   "cell_type": "code",
   "execution_count": 41,
   "metadata": {
    "collapsed": true
   },
   "outputs": [],
   "source": [
    "from PIL import Image, ImageDraw, ImageFont"
   ]
  },
  {
   "cell_type": "code",
   "execution_count": 42,
   "metadata": {
    "collapsed": true
   },
   "outputs": [],
   "source": [
    "def getheight(clust):\n",
    "    if clust.left == None and clust.right == None:\n",
    "        return 1\n",
    "    else:\n",
    "        return getheight(clust.left) + getheight(clust.right)"
   ]
  },
  {
   "cell_type": "code",
   "execution_count": 43,
   "metadata": {
    "collapsed": true
   },
   "outputs": [],
   "source": [
    "def getdepth(clust):\n",
    "    # The distance of an endpoint is 0.0\n",
    "    if clust.left==None and clust.right==None: return 0\n",
    "    \n",
    "    # The distance of a branch is the greater of its two sides\n",
    "    # plus its own distance\n",
    "    return max(getdepth(clust.left),getdepth(clust.right))+clust.distance"
   ]
  },
  {
   "cell_type": "code",
   "execution_count": 44,
   "metadata": {
    "collapsed": true
   },
   "outputs": [],
   "source": [
    "def drawdendrogram(clust,labels,jpeg='outputs/clusters.jpg'):\n",
    "    # height and width\n",
    "    h=getheight(clust)*20\n",
    "    w=1200\n",
    "    depth=getdepth(clust)\n",
    "    \n",
    "    # width is fixed, so scale distances accordingly\n",
    "    scaling=float(w-150)/depth\n",
    "    \n",
    "    # Create a new image with a white background\n",
    "    img=Image.new('RGB',(w,h),(255,255,255))\n",
    "    draw=ImageDraw.Draw(img)\n",
    "    \n",
    "    draw.line((0,h/2,10,h/2),fill=(255,0,0))\n",
    "    \n",
    "    # Draw the first node\n",
    "    drawnode(draw,clust,10,(h/2),scaling,labels)\n",
    "    img.save(jpeg,'JPEG')"
   ]
  },
  {
   "cell_type": "code",
   "execution_count": 45,
   "metadata": {
    "collapsed": true
   },
   "outputs": [],
   "source": [
    "def drawnode(draw,clust,x,y,scaling,labels):\n",
    "    if clust.id<0:\n",
    "        h1=getheight(clust.left)*20\n",
    "        h2=getheight(clust.right)*20\n",
    "        top=y-(h1+h2)/2\n",
    "        bottom=y+(h1+h2)/2\n",
    "        \n",
    "        # Line length\n",
    "        ll=clust.distance*scaling\n",
    "        \n",
    "        # Vertical line from this cluster to children\n",
    "        draw.line((x,top+h1/2,x,bottom-h2/2),fill=(255,0,0))\n",
    "        \n",
    "        # Horizontal line to left item\n",
    "        draw.line((x,top+h1/2,x+ll,top+h1/2),fill=(255,0,0))\n",
    "        \n",
    "        # Horizontal line to right item\n",
    "        draw.line((x,bottom-h2/2,x+ll,bottom-h2/2),fill=(255,0,0))\n",
    "        \n",
    "        # Call the function to draw the left and right nodes\n",
    "        drawnode(draw,clust.left,x+ll,top+h1/2,scaling,labels)\n",
    "        drawnode(draw,clust.right,x+ll,bottom-h2/2,scaling,labels)\n",
    "    else:\n",
    "         # If this is an endpoint, draw the item label\n",
    "        draw.text((x+5,y-7),labels[clust.id],(0,0,0))"
   ]
  },
  {
   "cell_type": "code",
   "execution_count": 22,
   "metadata": {},
   "outputs": [],
   "source": [
    "drawdendrogram(clust,blognames,jpeg='outputs/blogclust.jpg')"
   ]
  },
  {
   "cell_type": "code",
   "execution_count": 46,
   "metadata": {
    "collapsed": true
   },
   "outputs": [],
   "source": [
    "def rotatematrix(data):\n",
    "    newdata = []\n",
    "    for j in range(len(data[0])):\n",
    "        l = [data[i][j] for i in range(len(data))]\n",
    "        newdata.append(l)\n",
    "        \n",
    "    return(newdata)"
   ]
  },
  {
   "cell_type": "code",
   "execution_count": 47,
   "metadata": {
    "collapsed": true
   },
   "outputs": [],
   "source": [
    "rdata=rotatematrix(data)\n",
    "wordclust=hcluster(rdata)\n",
    "drawdendrogram(wordclust,labels=words,jpeg='outputs/wordclust.jpg')"
   ]
  },
  {
   "cell_type": "code",
   "execution_count": 56,
   "metadata": {
    "collapsed": true
   },
   "outputs": [],
   "source": [
    "import random\n",
    "def kcluster(rows,distance=pearson,k=4):\n",
    "    \n",
    "    # Determine the minimum and maximum values for each point\n",
    "    ranges=[(min([row[i] for row in rows]),max([row[i] for row in rows])) for i in range(len(rows[0]))]\n",
    "    \n",
    "    # Create k randomly placed centroids\n",
    "    clusters=[[random.random( )*(ranges[i][1]-ranges[i][0])+ranges[i][0]\n",
    "               for i in range(len(rows[0]))] for j in range(k)]\n",
    "    lastmatches=None\n",
    "    for t in range(100):\n",
    "        print 'Iteration %d' % t\n",
    "        bestmatches=[[] for i in range(k)]\n",
    "        \n",
    "        # Find which centroid is the closest for each row\n",
    "        for j in range(len(rows)):\n",
    "            row=rows[j]\n",
    "            bestmatch=0\n",
    "            for i in range(k):\n",
    "                d=distance(clusters[i],row)\n",
    "                if d<distance(clusters[bestmatch],row): bestmatch=i\n",
    "            bestmatches[bestmatch].append(j)\n",
    "            \n",
    "        # If the results are the same as last time, this is complete\n",
    "        if bestmatches==lastmatches: break\n",
    "        lastmatches=bestmatches\n",
    "        \n",
    "        # Move the centroids to the average of their members\n",
    "        for i in range(k):\n",
    "            avgs=[0.0]*len(rows[0])\n",
    "            if len(bestmatches[i])>0:\n",
    "                for rowid in bestmatches[i]:\n",
    "                    for m in range(len(rows[rowid])):\n",
    "                        avgs[m]+=rows[rowid][m]\n",
    "                for j in range(len(avgs)):\n",
    "                    avgs[j]/=len(bestmatches[i])\n",
    "                clusters[i]=avgs\n",
    "    return bestmatches"
   ]
  },
  {
   "cell_type": "code",
   "execution_count": 57,
   "metadata": {},
   "outputs": [
    {
     "name": "stdout",
     "output_type": "stream",
     "text": [
      "Iteration 0\n",
      "Iteration 1\n",
      "Iteration 2\n",
      "Iteration 3\n"
     ]
    }
   ],
   "source": [
    "kclust=kcluster(data,k=10)"
   ]
  }
 ],
 "metadata": {
  "kernelspec": {
   "display_name": "Python 3",
   "language": "python",
   "name": "python3"
  },
  "language_info": {
   "codemirror_mode": {
    "name": "ipython",
    "version": 3
   },
   "file_extension": ".py",
   "mimetype": "text/x-python",
   "name": "python",
   "nbconvert_exporter": "python",
   "pygments_lexer": "ipython3",
   "version": "3.6.1"
  }
 },
 "nbformat": 4,
 "nbformat_minor": 1
}
