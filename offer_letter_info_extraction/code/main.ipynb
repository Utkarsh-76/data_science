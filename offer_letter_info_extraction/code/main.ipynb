{
 "cells": [
  {
   "cell_type": "code",
   "execution_count": 108,
   "metadata": {},
   "outputs": [],
   "source": [
    "full_info = {}"
   ]
  },
  {
   "cell_type": "code",
   "execution_count": 109,
   "metadata": {},
   "outputs": [],
   "source": [
    "import nltk\n",
    "from nltk.corpus import stopwords\n",
    "stop = stopwords.words('english')"
   ]
  },
  {
   "cell_type": "code",
   "execution_count": 110,
   "metadata": {},
   "outputs": [],
   "source": [
    "import docx\n",
    "\n",
    "def getText(filename):\n",
    "    doc = docx.Document(filename)\n",
    "    fullText = []\n",
    "    for para in doc.paragraphs:\n",
    "        txt = para.text.encode('ascii', 'ignore')\n",
    "        fullText.append(txt)\n",
    "    return '\\n'.join(fullText)"
   ]
  },
  {
   "cell_type": "code",
   "execution_count": 111,
   "metadata": {},
   "outputs": [],
   "source": [
    "document = getText('../docs/doc_2.docx')"
   ]
  },
  {
   "cell_type": "code",
   "execution_count": 112,
   "metadata": {},
   "outputs": [],
   "source": [
    "import re\n",
    "lines_ini = re.split('    |\\n',document)"
   ]
  },
  {
   "cell_type": "code",
   "execution_count": 113,
   "metadata": {},
   "outputs": [],
   "source": [
    "lines = [nltk.word_tokenize(el) for el in lines_ini]\n",
    "lines = [nltk.pos_tag(el) for el in lines]\n",
    "lines = [x for x in lines if x != []]"
   ]
  },
  {
   "cell_type": "code",
   "execution_count": 114,
   "metadata": {},
   "outputs": [],
   "source": [
    "grammer = r'NAME: {^<NN.*><NN.*><NN.*>?$}'\n",
    "chunkParser = nltk.RegexpParser(grammer)"
   ]
  },
  {
   "cell_type": "code",
   "execution_count": 115,
   "metadata": {},
   "outputs": [],
   "source": [
    "nameHits = []\n",
    "for tagged_tokens in lines:\n",
    "    chunked_tokens = chunkParser.parse(tagged_tokens)\n",
    "    for subtree in chunked_tokens.subtrees():\n",
    "        if subtree.label() == 'NAME':\n",
    "            nameHits.append(' '.join([i[0] for i in subtree.leaves()]))"
   ]
  },
  {
   "cell_type": "code",
   "execution_count": 116,
   "metadata": {},
   "outputs": [],
   "source": [
    "full_info['Candidate Name'] = nameHits[0]\n",
    "full_info['offerer Name'] = nameHits[-1]"
   ]
  },
  {
   "cell_type": "code",
   "execution_count": 117,
   "metadata": {},
   "outputs": [],
   "source": [
    "import spacy\n",
    "nlp = spacy.load('en')\n",
    "\n",
    "def extract_join_dt_sal_org(lines):\n",
    "    dates = []\n",
    "    money = []\n",
    "    org = []\n",
    "    for line in lines:\n",
    "        doc=nlp(unicode(line))\n",
    "        for ent in doc.ents:\n",
    "            if ent.label_ == 'ORG':\n",
    "                    org.append(str(ent.text))\n",
    "            if ent.label_ == 'MONEY':\n",
    "                    money.append(str(ent.text))\n",
    "            if ent.label_ == 'DATE':\n",
    "                    match = re.search(r'(^\\d{1,2}\\D.*\\d{4}$)',ent.text.strip())\n",
    "                    if match != None:\n",
    "                        dates.append(str(ent.text))\n",
    "    \n",
    "    if not dates:\n",
    "        dates = ['not found']\n",
    "    if not money:\n",
    "        money = ['not found']\n",
    "    if not org:\n",
    "        org = ['not found']\n",
    "    return dates[-1],money[0],org[0]"
   ]
  },
  {
   "cell_type": "code",
   "execution_count": 118,
   "metadata": {},
   "outputs": [],
   "source": [
    "join_date,salary,org=extract_join_dt_sal_org(lines_ini)\n",
    "full_info['Joining date'] = join_date\n",
    "full_info['Salary'] = salary\n",
    "full_info['Organisation Name'] = org"
   ]
  },
  {
   "cell_type": "code",
   "execution_count": 119,
   "metadata": {},
   "outputs": [],
   "source": [
    "import find_job_titles\n",
    "from find_job_titles import FinderAcora\n",
    "b=FinderAcora()\n",
    "gen=FinderAcora.find_raw(b,unicode(document))\n",
    "designation=[]\n",
    "for l in gen:\n",
    "    designation.append(l)\n",
    "    break"
   ]
  },
  {
   "cell_type": "code",
   "execution_count": 120,
   "metadata": {},
   "outputs": [],
   "source": [
    "des= designation[0]\n",
    "d = document[des.start-15:des.end+15]"
   ]
  },
  {
   "cell_type": "code",
   "execution_count": 121,
   "metadata": {},
   "outputs": [],
   "source": [
    "d = nltk.word_tokenize(str(d))\n",
    "d = nltk.pos_tag(d)\n",
    "grammer = r'DESIGNATION: {<NNP>*}'\n",
    "chunkParser = nltk.RegexpParser(grammer)\n",
    "desHits = []\n",
    "chunked_tokens = chunkParser.parse(d)\n",
    "for subtree in chunked_tokens.subtrees():\n",
    "    if subtree.label() == 'DESIGNATION':\n",
    "        word=' '.join([i[0] for i in subtree.leaves()])\n",
    "        if des.match in word:\n",
    "            desHits.append(word)"
   ]
  },
  {
   "cell_type": "code",
   "execution_count": 122,
   "metadata": {},
   "outputs": [],
   "source": [
    "full_info['Designation'] = desHits[0]"
   ]
  },
  {
   "cell_type": "code",
   "execution_count": 123,
   "metadata": {},
   "outputs": [
    {
     "data": {
      "text/plain": [
       "{'Candidate Name': 'Bob Jostle',\n",
       " 'Designation': 'Assistant Cashier Manager',\n",
       " 'Joining date': '11/2/2014',\n",
       " 'Organisation Name': 'The Number Store',\n",
       " 'Salary': '31,000',\n",
       " 'offerer Name': 'Dave Thimble'}"
      ]
     },
     "execution_count": 123,
     "metadata": {},
     "output_type": "execute_result"
    }
   ],
   "source": [
    "full_info"
   ]
  }
 ],
 "metadata": {
  "kernelspec": {
   "display_name": "Python 2",
   "language": "python",
   "name": "python2"
  },
  "language_info": {
   "codemirror_mode": {
    "name": "ipython",
    "version": 2
   },
   "file_extension": ".py",
   "mimetype": "text/x-python",
   "name": "python",
   "nbconvert_exporter": "python",
   "pygments_lexer": "ipython2",
   "version": "2.7.9"
  }
 },
 "nbformat": 4,
 "nbformat_minor": 1
}
