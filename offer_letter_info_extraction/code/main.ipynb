{
 "cells": [
  {
   "cell_type": "code",
   "execution_count": 1155,
   "metadata": {},
   "outputs": [],
   "source": [
    "full_info = {}"
   ]
  },
  {
   "cell_type": "code",
   "execution_count": 1156,
   "metadata": {},
   "outputs": [],
   "source": [
    "import nltk\n",
    "from nltk.corpus import stopwords\n",
    "stop = stopwords.words('english')"
   ]
  },
  {
   "cell_type": "code",
   "execution_count": 1157,
   "metadata": {},
   "outputs": [],
   "source": [
    "import docx\n",
    "\n",
    "def getText(filename):\n",
    "    doc = docx.Document(filename)\n",
    "    fullText = []\n",
    "    for para in doc.paragraphs:\n",
    "        txt = para.text.encode('ascii', 'ignore')\n",
    "        fullText.append(txt)\n",
    "    return '\\n'.join(fullText)"
   ]
  },
  {
   "cell_type": "code",
   "execution_count": 1158,
   "metadata": {},
   "outputs": [],
   "source": [
    "filename = '../docs/doc_1.docx'"
   ]
  },
  {
   "cell_type": "code",
   "execution_count": 1159,
   "metadata": {},
   "outputs": [],
   "source": [
    "document = getText(filename)"
   ]
  },
  {
   "cell_type": "code",
   "execution_count": 1160,
   "metadata": {},
   "outputs": [],
   "source": [
    "import re\n",
    "lines_ini = re.split('    |\\n',document)\n",
    "lines_ini = [el.strip(',') for el in lines_ini]"
   ]
  },
  {
   "cell_type": "code",
   "execution_count": 1161,
   "metadata": {},
   "outputs": [],
   "source": [
    "lines = [nltk.word_tokenize(el) for el in lines_ini]\n",
    "lines = [nltk.pos_tag(el) for el in lines]\n",
    "lines = [x for x in lines if x != []]\n",
    "lines = lines[1:-3]"
   ]
  },
  {
   "cell_type": "code",
   "execution_count": 1162,
   "metadata": {},
   "outputs": [
    {
     "data": {
      "text/plain": [
       "['',\n",
       " '',\n",
       " '',\n",
       " '',\n",
       " '',\n",
       " '',\n",
       " '',\n",
       " '',\n",
       " '',\n",
       " '',\n",
       " '',\n",
       " '',\n",
       " '',\n",
       " '',\n",
       " '',\n",
       " '',\n",
       " '',\n",
       " '',\n",
       " '',\n",
       " '',\n",
       " '',\n",
       " '',\n",
       " '',\n",
       " '',\n",
       " '',\n",
       " '',\n",
       " '',\n",
       " '   Date: dd/mm/yyyy ',\n",
       " ' ',\n",
       " 'To',\n",
       " 'Mr. Md Azhar',\n",
       " ' ',\n",
       " ' \\t \\t \\t \\tSub: Offer Letter  ',\n",
       " ' ',\n",
       " 'Dear Ms ',\n",
       " 'Subject to the terms contained in this letter of appointment, we are pleased to appoint you as  Software Engineer Trainee effective from 25/09/2018. ',\n",
       " '1.Commencement of  employment ',\n",
       " 'Your employment with the Company shall commence on 20/09/2018, subject you being medically fit and validation / verification of your educational qualification. ',\n",
       " ' ',\n",
       " '2.Placement  compensation \\t ',\n",
       " 'Compensation will be governed by the rules of the Company on the subject, as applicable and/or amended hereafter.The Company expects you to keep the salary details confidential at all times. This compensation will be reviewed from time to time depending upon the successful completion of tasks assigned to you.The Company reserves the right to withdraw or modify any of the components included in your remuneration, by giving prior notice. ',\n",
       " ' ',\n",
       " '3.Term of employment ',\n",
       " 'The terms of your employment shall be governed by the rules of the Company currently in effect. The management reserves the right to modify, amend, relax, or withdraw any or all of these rules at its discretion at any time. The decision of the management is final in case of any doubt as to the interpretation, scope or applicability. ',\n",
       " ' ',\n",
       " 'Duties and responsibilities ',\n",
       " 'a. You are required to perform the duties and responsibilities related to your position in any function, department in the Company, or within the group Companies. ',\n",
       " 'b.Location: Your initial position will be in Bangalore however you will be liable to be transferred in such capacity as the Company may determine from time to time to any location, department, function or branch of the Company as per the business needs.  ',\n",
       " ' c. You will be responsible for the safe keeping and return in good condition and order of all the Companys assets, which may be in your use, custody, care or charge. The Company shall have the right to deduct the damages cost of such assets from your dues and take such actions as deemed proper, in the event of your failure to account for them to the Companys satisfaction. ',\n",
       " 'd.You are also solely responsible for declarations and implications arising thereof for all personal income-tax purposes. ',\n",
       " ' ',\n",
       " 'Working Hours ',\n",
       " 'Monday to Friday :  9:00 AM to 6:00 PM ',\n",
       " 'The Company reserves the right to change your working days and hours. You may be required to work in shift due to client requirement or business need. ',\n",
       " ' ',\n",
       " 'Annual leave ',\n",
       " 'You are eligible for  ',\n",
       " '',\n",
       " '  12 days of earned leave per year. ',\n",
       " '',\n",
       " '  12 days of casual leave per year. ',\n",
       " '',\n",
       " '  06 days of sick leave per year. ',\n",
       " 'Maximum of 30 unused Earned leaves can be carried forward from one financial year to the next. ',\n",
       " ' ',\n",
       " 'Employment rules and regulations ',\n",
       " 'a.You will not at any time during the continuance or after the termination of your services with the Company irrespective of any reason for such termination, make use or disclose to any party either for your own benefit or for the benefit of any party (individual ,firm, Company, any trade or business) , the affairs and confidential information of the Company or any of its related companies of which you have knowledge or become aware during the course of your service with the Company. ',\n",
       " 'b.You shall not under any circumstances either directly or indirectly, receive or accept for your benefit any gifts, commision, rebate, discount or profit from any person, Company or firm having business transactions with the Company. ',\n",
       " ' ',\n",
       " 'Intellectual Property ',\n",
       " 'Any product / process created , any creation of logos, marks, tag lines, any novel shape or design of the product, any copyrightable innovations and any service rendered during the course of your employment, including but not limited to any intellectual property in relation thereto will be for and on behalf of the Company shall solely and exclusively belong to the Company. If you conceive any new or advanced methods of improving process / formulae / systems in relation to the operation of the Company, such developments will be fully communicated to the Company and will remain sole right / property of the Company. ',\n",
       " ' ',\n",
       " 'Termination ',\n",
       " 'The Company shall be entitled to terminate your employment without notice, indeminities and compensation in any of the following events: ',\n",
       " 'a. If you are in the opinion of the Company, guilty of dishonesty, misconduct, or negligence in the performance of your duties; ',\n",
       " ' b.If you have been found to have committed a serious breach or continual material',\n",
       " '',\n",
       " '',\n",
       " '',\n",
       " '',\n",
       " '',\n",
       " ' breach of any of your duties or obligations; ',\n",
       " 'c. If you are found to have made illegal monetary profit or received any gratuities or other rewards, in cash or in kind, out of the Companys affairs or any of its subsidiaries or related companies. ',\n",
       " 'Your relieving will be subject to your satisfactory completion of pending tasks, smooth transitioning of role, handover of information, knowledge transfer to replaced resource and settlement of any dues to the Company. ',\n",
       " ' ',\n",
       " 'Retirement ',\n",
       " 'The age of retirement will be on attainment of 58years (last day of the month of your 58th birthday) . For this purpose, the date of birth as declared in the application form / records submitted as proof of birth date will be treated as final. However, the management at its discretion may extend the age, in individual cases.  ',\n",
       " ' ',\n",
       " ' ',\n",
       " 'We are confident that this Company will provide you an outstanding opportunity for developing your career and accomplish your professional goals. You will work in an exciting work environment and have opportunities for continuous learning and development. ',\n",
       " 'We welcome you on board and wish you a very rewarding and successful career with us.  ',\n",
       " ' ',\n",
       " 'Documents to be submitted at the time of joining: ',\n",
       " 'Complete educational credentials from 10th standard ',\n",
       " 'Passport size photographs -2  ',\n",
       " 'Copy of the Aadhaar card, passport, PAN, present and permanent address proof. ',\n",
       " ' ',\n",
       " ' ',\n",
       " 'Yours Sincerely',\n",
       " 'David watson',\n",
       " '(Director) ',\n",
       " ' ',\n",
       " ' ',\n",
       " ' ',\n",
       " 'Acknowledgement: ',\n",
       " 'I, ______________________ understand & accept the above employment terms & conditions to be sincerely followed by me during my employment with the Company & with the intent to be legally bound.  ',\n",
       " ' ',\n",
       " '----------------------------------',\n",
       " '',\n",
       " '',\n",
       " '',\n",
       " '',\n",
       " '',\n",
       " '',\n",
       " '',\n",
       " '',\n",
       " '',\n",
       " '',\n",
       " '   ----------------------------------- ',\n",
       " 'Signature',\n",
       " '',\n",
       " '',\n",
       " '',\n",
       " '',\n",
       " '',\n",
       " '',\n",
       " '',\n",
       " '',\n",
       " '',\n",
       " '',\n",
       " '',\n",
       " '',\n",
       " '',\n",
       " '',\n",
       " '',\n",
       " '',\n",
       " '',\n",
       " '',\n",
       " 'Date ',\n",
       " '  ']"
      ]
     },
     "execution_count": 1162,
     "metadata": {},
     "output_type": "execute_result"
    }
   ],
   "source": [
    "lines_ini"
   ]
  },
  {
   "cell_type": "code",
   "execution_count": 1163,
   "metadata": {},
   "outputs": [],
   "source": [
    "grammer = r'NAME: {^<NN.*><NN.*>?<NN.*>?$}'\n",
    "chunkParser = nltk.RegexpParser(grammer)"
   ]
  },
  {
   "cell_type": "code",
   "execution_count": 1164,
   "metadata": {},
   "outputs": [],
   "source": [
    "nameHits = []\n",
    "for tagged_tokens in lines:\n",
    "    chunked_tokens = chunkParser.parse(tagged_tokens)\n",
    "    for subtree in chunked_tokens.subtrees():\n",
    "        if subtree.label() == 'NAME':\n",
    "            nameHits.append(' '.join([i[0] for i in subtree.leaves()]))"
   ]
  },
  {
   "cell_type": "code",
   "execution_count": 1165,
   "metadata": {},
   "outputs": [],
   "source": [
    "full_info['Candidate Name'] = nameHits[0]\n",
    "if full_info['Candidate Name'].find('Date')!=-1:\n",
    "    full_info['Candidate Name'] = nameHits[1]\n",
    "full_info['offerer Name'] = nameHits[-1]\n",
    "if nameHits[-1] == 'Hiring Manager':\n",
    "    full_info['offerer Name'] = nameHits[-2]"
   ]
  },
  {
   "cell_type": "code",
   "execution_count": 1166,
   "metadata": {},
   "outputs": [],
   "source": [
    "for l in lines_ini:\n",
    "    if l.lower().find('dear')!= -1 and len(l) > 8:\n",
    "        full_info['Candidate Name'] = l[(l.lower().find('dear') + 5):]\n",
    "        break"
   ]
  },
  {
   "cell_type": "code",
   "execution_count": 1167,
   "metadata": {},
   "outputs": [],
   "source": [
    "import spacy\n",
    "nlp = spacy.load('en')\n",
    "\n",
    "def extract_join_dt_sal_org(lines):\n",
    "    dates = []\n",
    "    money = []\n",
    "    org = []\n",
    "    for line in lines:\n",
    "        doc=nlp(unicode(line))\n",
    "        for ent in doc.ents:\n",
    "            if ent.label_ == 'ORG':\n",
    "                    org.append(str(ent.text))\n",
    "            if ent.label_ == 'MONEY':\n",
    "                    money.append(str(ent.text))\n",
    "            if ent.label_ == 'DATE':\n",
    "                    match = re.search(r'(^\\d{1,2}\\D.*\\d{4}$)',ent.text.strip())\n",
    "                    if match != None:\n",
    "                        dates.append(str(ent.text))\n",
    "    \n",
    "    if not dates:\n",
    "        dates = ['not found']\n",
    "    if not money:\n",
    "        money = ['not found']\n",
    "    if not org:\n",
    "        org = ['not found']\n",
    "    return dates[-1],money[0],org[0]"
   ]
  },
  {
   "cell_type": "code",
   "execution_count": 1168,
   "metadata": {},
   "outputs": [],
   "source": [
    "join_date,salary,org=extract_join_dt_sal_org(lines_ini)\n",
    "full_info['Joining date'] = join_date\n",
    "full_info['Salary'] = salary\n",
    "full_info['Organisation Name'] = org"
   ]
  },
  {
   "cell_type": "code",
   "execution_count": 1169,
   "metadata": {},
   "outputs": [],
   "source": [
    "import find_job_titles\n",
    "from find_job_titles import FinderAcora\n",
    "b=FinderAcora()\n",
    "gen=FinderAcora.find_raw(b,unicode(document))\n",
    "designation=[]\n",
    "for l in gen:\n",
    "    designation.append(l)\n",
    "    break"
   ]
  },
  {
   "cell_type": "code",
   "execution_count": 1170,
   "metadata": {},
   "outputs": [],
   "source": [
    "if not designation:\n",
    "    full_info['Designation'] = 'Not found'\n",
    "else:\n",
    "    des= designation[0]\n",
    "    d = document[des.start-15:des.end+15]\n",
    "    if document.find('Trainee')!=-1:\n",
    "        ind = document.find('Trainee')\n",
    "        d = document[ind-20:ind+27]\n",
    "    if d == '':\n",
    "        d = document[des.start:des.end+15]\n",
    "        \n",
    "    d = nltk.word_tokenize(str(d))\n",
    "    d = nltk.pos_tag(d)\n",
    "    grammer = r'DESIGNATION: {<NNP>*}'\n",
    "    chunkParser = nltk.RegexpParser(grammer)\n",
    "    desHits = []\n",
    "    chunked_tokens = chunkParser.parse(d)\n",
    "    for subtree in chunked_tokens.subtrees():\n",
    "        if subtree.label() == 'DESIGNATION':\n",
    "            word=' '.join([i[0] for i in subtree.leaves()])\n",
    "            if document.find('Trainee')!=-1:\n",
    "                desHits.append(word)\n",
    "            elif des.match in word:\n",
    "                desHits.append(word)\n",
    "    if not desHits:\n",
    "        full_info['Designation'] = 'Not found'\n",
    "    else:\n",
    "        full_info['Designation'] = desHits[0]"
   ]
  },
  {
   "cell_type": "code",
   "execution_count": 1171,
   "metadata": {},
   "outputs": [],
   "source": [
    "if ((full_info['Designation']).strip() == (full_info['Organisation Name']).strip()):\n",
    "    full_info['Organisation Name'] = 'Not Found'"
   ]
  },
  {
   "cell_type": "code",
   "execution_count": 1172,
   "metadata": {},
   "outputs": [
    {
     "data": {
      "text/plain": [
       "{'Candidate Name': 'Mr. Md Azhar',\n",
       " 'Designation': 'Software Engineer Trainee',\n",
       " 'Joining date': '20/09/2018',\n",
       " 'Organisation Name': 'Not Found',\n",
       " 'Salary': 'not found',\n",
       " 'offerer Name': 'David watson'}"
      ]
     },
     "execution_count": 1172,
     "metadata": {},
     "output_type": "execute_result"
    }
   ],
   "source": [
    "full_info"
   ]
  }
 ],
 "metadata": {
  "kernelspec": {
   "display_name": "Python 2",
   "language": "python",
   "name": "python2"
  },
  "language_info": {
   "codemirror_mode": {
    "name": "ipython",
    "version": 2
   },
   "file_extension": ".py",
   "mimetype": "text/x-python",
   "name": "python",
   "nbconvert_exporter": "python",
   "pygments_lexer": "ipython2",
   "version": "2.7.9"
  }
 },
 "nbformat": 4,
 "nbformat_minor": 1
}
