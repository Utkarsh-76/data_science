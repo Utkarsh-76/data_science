{
 "cells": [
  {
   "cell_type": "code",
   "execution_count": 1,
   "metadata": {},
   "outputs": [],
   "source": [
    "import nltk\n",
    "from nltk.corpus import stopwords\n",
    "stop = stopwords.words('english')"
   ]
  },
  {
   "cell_type": "code",
   "execution_count": 2,
   "metadata": {},
   "outputs": [],
   "source": [
    "import docx\n",
    "\n",
    "def getText(filename):\n",
    "    doc = docx.Document(filename)\n",
    "    fullText = []\n",
    "    for para in doc.paragraphs:\n",
    "        txt = para.text.encode('ascii', 'ignore')\n",
    "        fullText.append(txt)\n",
    "    return '\\n'.join(fullText)"
   ]
  },
  {
   "cell_type": "code",
   "execution_count": 234,
   "metadata": {},
   "outputs": [],
   "source": [
    "document = getText('../docs/doc_2.docx')"
   ]
  },
  {
   "cell_type": "code",
   "execution_count": 88,
   "metadata": {},
   "outputs": [],
   "source": [
    "import re\n",
    "lines = re.split('    |\\n',document)"
   ]
  },
  {
   "cell_type": "code",
   "execution_count": 26,
   "metadata": {},
   "outputs": [],
   "source": [
    "lines = [nltk.word_tokenize(el) for el in lines]\n",
    "lines = [nltk.pos_tag(el) for el in lines]\n",
    "lines = [x for x in lines if x != []]"
   ]
  },
  {
   "cell_type": "code",
   "execution_count": 129,
   "metadata": {},
   "outputs": [],
   "source": [
    "grammer = r'NAME: {^<NN.*><NN.*><NN.*>?$}'\n",
    "chunkParser = nltk.RegexpParser(grammer)"
   ]
  },
  {
   "cell_type": "code",
   "execution_count": 130,
   "metadata": {},
   "outputs": [],
   "source": [
    "nameHits = []\n",
    "for tagged_tokens in lines:\n",
    "    chunked_tokens = chunkParser.parse(tagged_tokens)\n",
    "    for subtree in chunked_tokens.subtrees():\n",
    "        if subtree.label() == 'NAME':\n",
    "            nameHits.append(' '.join([i[0] for i in subtree.leaves()]))"
   ]
  },
  {
   "cell_type": "code",
   "execution_count": 134,
   "metadata": {},
   "outputs": [
    {
     "data": {
      "text/plain": [
       "['Mr. Md Azhar', 'Dear Ms', 'Intellectual Property', 'David watson']"
      ]
     },
     "execution_count": 134,
     "metadata": {},
     "output_type": "execute_result"
    }
   ],
   "source": [
    "nameHits"
   ]
  },
  {
   "cell_type": "code",
   "execution_count": 171,
   "metadata": {},
   "outputs": [],
   "source": [
    "import nltk\n",
    "from nltk.corpus import stopwords\n",
    "stop = stopwords.words('english')"
   ]
  },
  {
   "cell_type": "code",
   "execution_count": 170,
   "metadata": {},
   "outputs": [],
   "source": [
    "document = ' '.join([i for i in document.split() if i not in stop])\n",
    "sentences = nltk.sent_tokenize(document)"
   ]
  },
  {
   "cell_type": "code",
   "execution_count": 7,
   "metadata": {},
   "outputs": [],
   "source": [
    "sentences = [nltk.word_tokenize(sent) for sent in sentences]"
   ]
  },
  {
   "cell_type": "code",
   "execution_count": 8,
   "metadata": {},
   "outputs": [],
   "source": [
    "sentences = [nltk.pos_tag(sent) for sent in sentences]"
   ]
  },
  {
   "cell_type": "code",
   "execution_count": 115,
   "metadata": {},
   "outputs": [],
   "source": [
    "\n",
    "\n",
    "def extract_names(sentences):\n",
    "    dates = []\n",
    "    for tagged_sentence in sentences:\n",
    "        for chunk in nltk.ne_chunk(tagged_sentence):\n",
    "            if type(chunk) == nltk.tree.Tree:\n",
    "                print(chunk)\n",
    "                if chunk.label() == 'DATE':\n",
    "                    dates.append(' '.join([c[0] for c in chunk]))\n",
    "    return dates\n",
    "\n",
    "def extract_names_spacy(lines):\n",
    "    dates = []\n",
    "    money = []\n",
    "    org = []\n",
    "    for line in lines:\n",
    "        doc=nlp(unicode(line))\n",
    "        for ent in doc.ents:\n",
    "            if ent.label_ == 'ORG':\n",
    "                    org.append(ent.text)\n",
    "            if ent.label_ == 'MONEY':\n",
    "                    money.append(ent.text)\n",
    "            if ent.label_ == 'DATE':\n",
    "                    match = re.search(r'(^\\d{1,2}\\D.*\\d{4}$)',ent.text.strip())\n",
    "                    if match != None:\n",
    "                        dates.append(ent.text)\n",
    "    \n",
    "    if !dates:\n",
    "        dates = ['not found']\n",
    "    if !money:\n",
    "        money = ['not found']\n",
    "    if !org:\n",
    "        org = ['not found']\n",
    "    return dates[-1],money[0],org[0]\n",
    "\n"
   ]
  },
  {
   "cell_type": "code",
   "execution_count": 116,
   "metadata": {},
   "outputs": [
    {
     "name": "stdout",
     "output_type": "stream",
     "text": [
      "The Number Store\n"
     ]
    }
   ],
   "source": [
    "dates,money,org=extract_names_spacy(lines)\n",
    "print(org)"
   ]
  },
  {
   "cell_type": "code",
   "execution_count": 17,
   "metadata": {},
   "outputs": [],
   "source": [
    "import spacy\n",
    "nlp = spacy.load('en')"
   ]
  },
  {
   "cell_type": "code",
   "execution_count": 239,
   "metadata": {},
   "outputs": [],
   "source": [
    "import find_job_titles\n",
    "from find_job_titles import FinderAcora\n",
    "b=FinderAcora()\n",
    "gen=FinderAcora.find_raw(b,unicode(document))\n",
    "designation=[]\n",
    "for l in gen:\n",
    "    designation.append(l)\n",
    "    break\n",
    "    "
   ]
  },
  {
   "cell_type": "code",
   "execution_count": 240,
   "metadata": {},
   "outputs": [],
   "source": [
    "des= designation[0]"
   ]
  },
  {
   "cell_type": "code",
   "execution_count": 241,
   "metadata": {},
   "outputs": [],
   "source": [
    "d = document[des.start-15:des.end+15]"
   ]
  },
  {
   "cell_type": "code",
   "execution_count": 242,
   "metadata": {},
   "outputs": [
    {
     "name": "stdout",
     "output_type": "stream",
     "text": [
      "['b', 'as', 'Assistant', 'Cashier', 'Manager', '.', 'We', 'can', 'not', 'wai']\n",
      "[('b', 'NN'), ('as', 'IN'), ('Assistant', 'NNP'), ('Cashier', 'NNP'), ('Manager', 'NNP'), ('.', '.'), ('We', 'PRP'), ('can', 'MD'), ('not', 'RB'), ('wai', 'VB')]\n"
     ]
    }
   ],
   "source": [
    "d = nltk.word_tokenize(str(d))\n",
    "print(d)\n",
    "d = nltk.pos_tag(d)\n",
    "print(d)\n",
    "grammer = r'DESIGNATION: {<NNP>*}'\n",
    "chunkParser = nltk.RegexpParser(grammer)\n",
    "desHits = []\n",
    "chunked_tokens = chunkParser.parse(d)\n",
    "for subtree in chunked_tokens.subtrees():\n",
    "    if subtree.label() == 'DESIGNATION':\n",
    "        word=' '.join([i[0] for i in subtree.leaves()])\n",
    "        if des.match in word:\n",
    "            desHits.append(word)"
   ]
  },
  {
   "cell_type": "code",
   "execution_count": 243,
   "metadata": {},
   "outputs": [
    {
     "data": {
      "text/plain": [
       "['Assistant Cashier Manager']"
      ]
     },
     "execution_count": 243,
     "metadata": {},
     "output_type": "execute_result"
    }
   ],
   "source": [
    "desHits"
   ]
  }
 ],
 "metadata": {
  "kernelspec": {
   "display_name": "Python 2",
   "language": "python",
   "name": "python2"
  },
  "language_info": {
   "codemirror_mode": {
    "name": "ipython",
    "version": 2
   },
   "file_extension": ".py",
   "mimetype": "text/x-python",
   "name": "python",
   "nbconvert_exporter": "python",
   "pygments_lexer": "ipython2",
   "version": "2.7.9"
  }
 },
 "nbformat": 4,
 "nbformat_minor": 1
}
