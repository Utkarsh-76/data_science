{
 "cells": [
  {
   "cell_type": "code",
   "execution_count": 1,
   "metadata": {
    "collapsed": false
   },
   "outputs": [],
   "source": [
    "import sumy"
   ]
  },
  {
   "cell_type": "code",
   "execution_count": null,
   "metadata": {
    "collapsed": true
   },
   "outputs": [],
   "source": []
  },
  {
   "cell_type": "code",
   "execution_count": 13,
   "metadata": {
    "collapsed": false
   },
   "outputs": [
    {
     "name": "stdout",
     "output_type": "stream",
     "text": [
      "During the period that I spent in slavery I was not large enough to be of much service, still I was occupied most of the time in cleaning the yards, carrying water to the men in the fields, or going to the mill to which I used to take the corn, once a week, to be ground.\n",
      "During the campaign when Lincoln was first a candidate for the Presidency, the slaves on our far-off plantation, miles from any railroad or large city or daily newspaper, knew what the issues involved were.\n",
      "Even the most ignorant members of my race on the remote plantations felt in their hearts, with a certainty that admitted of no doubt, that the freedom of the slaves would be the one great result of the war, if the northern armies conquered.\n",
      "The man who was sent to the office would linger about the place long enough to get the drift of the conversation from the group of white people who naturally congregated there, after receiving their mail, to discuss the latest news.\n",
      "At that time those cakes seemed to me to be absolutely the most tempting and desirable things that I had ever seen; and I then and there resolved that, if I ever got free, the height of my ambition would be reached if I could get to the point where I could secure and eat ginger-cakes in the way that I saw those ladies doing.\n",
      "Then, when we rid ourselves of prejudice, or racial feeling, and look facts in the face, we must acknowledge that, notwithstanding the cruelty and moral wrong of slavery, the ten million Negroes inhabiting this country, who themselves or whose ancestors went through the school of American slavery, are in a stronger and more hopeful condition, materially, intellectually, morally, and religiously, than is true of an equal number of black people in any other portion of the globe.\n",
      "When persons ask me in these days how, in the midst of what sometimes seem hopelessly discouraging conditions, I can have such faith in the future of my race in this country, I remind them of the wilderness through which and out of which, a good Providence has already led us.\n",
      "As a result of the system, fences were out of repair, gates were hanging half off the hinges, doors creaked, window-panes were out, plastering had fallen but was not replaced, weeds grew in the yard.\n",
      "As a rule, there was food for whites and blacks, but inside the house, and on the dining-room table, there was wanting that delicacy and refinement of touch and finish which can make a home the most convenient, comfortable, and attractive place in the world.\n",
      "The most distinct thing that I now recall in connection with the scene was that some man who seemed to be a stranger (a United States officer, I presume) made a little speech and then read a rather long paper -- the Emancipation Proclamation, I think.\n"
     ]
    }
   ],
   "source": [
    "# -*- coding: utf-8 -*-\n",
    "\n",
    "from __future__ import absolute_import\n",
    "from __future__ import division, print_function, unicode_literals\n",
    "\n",
    "from sumy.parsers.html import HtmlParser\n",
    "from sumy.parsers.plaintext import PlaintextParser\n",
    "from sumy.nlp.tokenizers import Tokenizer\n",
    "from sumy.summarizers.lsa import LsaSummarizer as Summarizer\n",
    "from sumy.nlp.stemmers import Stemmer\n",
    "from sumy.utils import get_stop_words\n",
    "\n",
    "\n",
    "LANGUAGE = \"english\"\n",
    "SENTENCES_COUNT = 10\n",
    "\n",
    "\n",
    "if __name__ == \"__main__\":\n",
    "#     url = \"https://www.tutorialspoint.com/html/html_text_links.htm\"\n",
    "#     parser = HtmlParser.from_url(url, Tokenizer(LANGUAGE))\n",
    "    # or for plain text files\n",
    "    parser = PlaintextParser.from_file(\"test_files/washington_up_ch1.txt\", Tokenizer(LANGUAGE))\n",
    "    stemmer = Stemmer(LANGUAGE)\n",
    "\n",
    "    summarizer = Summarizer(stemmer)\n",
    "    summarizer.stop_words = get_stop_words(LANGUAGE)\n",
    "\n",
    "    for sentence in summarizer(parser.document, SENTENCES_COUNT):\n",
    "        print(sentence)"
   ]
  }
 ],
 "metadata": {
  "kernelspec": {
   "display_name": "Python 2",
   "language": "python",
   "name": "python2"
  },
  "language_info": {
   "codemirror_mode": {
    "name": "ipython",
    "version": 2
   },
   "file_extension": ".py",
   "mimetype": "text/x-python",
   "name": "python",
   "nbconvert_exporter": "python",
   "pygments_lexer": "ipython2",
   "version": "2.7.8"
  }
 },
 "nbformat": 4,
 "nbformat_minor": 0
}
